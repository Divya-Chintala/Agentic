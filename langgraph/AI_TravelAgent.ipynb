{
 "cells": [
  {
   "cell_type": "markdown",
   "id": "a6fb8674",
   "metadata": {},
   "source": [
    "#### AI Travel Agent & Expense Planner\n",
    "##### Purpose: Trip planning for any city worldwide with Realtime data."
   ]
  },
  {
   "cell_type": "code",
   "execution_count": null,
   "id": "1dbcff06",
   "metadata": {},
   "outputs": [
    {
     "data": {
      "text/plain": [
       "True"
      ]
     },
     "execution_count": 21,
     "metadata": {},
     "output_type": "execute_result"
    }
   ],
   "source": [
    "from langgraph.graph import START,END,StateGraph,MessagesState\n",
    "from langchain_community.tools import tool\n",
    "from langgraph.prebuilt import tools_condition,ToolNode\n"
   ]
  },
  {
   "cell_type": "code",
   "execution_count": 2,
   "id": "e6650d3e",
   "metadata": {},
   "outputs": [],
   "source": [
    "@tool\n",
    "def get_attarction_activites(Location:str)->str:\n",
    "    \"\"\"This tool provides list of top 5 attractions, list of top 5 resturants with multi-cusines, list of top 5 activities to do and ways of transporation in given location \"\"\"\n",
    "    pass"
   ]
  },
  {
   "cell_type": "markdown",
   "id": "bd3ddf1a",
   "metadata": {},
   "source": [
    "#### `OpenWeatherMap` component to fetch weather information."
   ]
  },
  {
   "cell_type": "code",
   "execution_count": 22,
   "id": "b8c9d199",
   "metadata": {},
   "outputs": [
    {
     "data": {
      "text/plain": [
       "True"
      ]
     },
     "execution_count": 22,
     "metadata": {},
     "output_type": "execute_result"
    }
   ],
   "source": [
    "import os\n",
    "from dotenv import load_dotenv\n",
    "from langchain_community.utilities import OpenWeatherMapAPIWrapper\n",
    "from warnings import filterwarnings\n",
    "filterwarnings(\"ignore\")\n",
    "\n",
    "load_dotenv()"
   ]
  },
  {
   "cell_type": "code",
   "execution_count": null,
   "id": "7ed70cd3",
   "metadata": {},
   "outputs": [],
   "source": [
    "import os\n",
    "from langchain_community.utilities import OpenWeatherMapAPIWrapper\n",
    "\n",
    "os.environ[\"OPENWEATHERMAP_API_KEY\"] = os.getenv(\"openweatherkey_one\")\n",
    "weather = OpenWeatherMapAPIWrapper()\n",
    "weather_data = weather.run(\"London,GB\")\n",
    "print(weather_data)"
   ]
  },
  {
   "cell_type": "code",
   "execution_count": 3,
   "id": "bbbf4b72",
   "metadata": {},
   "outputs": [],
   "source": [
    "@tool\n",
    "def get_weather_detail(Location:str)->str:\n",
    "    \"\"\"This tool provides current and forecasting weather for given location\"\"\"\n",
    "    pass"
   ]
  },
  {
   "cell_type": "code",
   "execution_count": 4,
   "id": "a7c684fd",
   "metadata": {},
   "outputs": [],
   "source": [
    "@tool\n",
    "def get_hotel_costs(Location:str)->str:\n",
    "    \"\"\"This tool provides hotels and its prices in given location\"\"\"\n",
    "    pass\n"
   ]
  },
  {
   "cell_type": "code",
   "execution_count": 5,
   "id": "e28619c7",
   "metadata": {},
   "outputs": [],
   "source": [
    "@tool\n",
    "def get_hotel_price(Hotel_name:str)->str:\n",
    "        \"\"\"This tool provides price per Night of given Hotel\"\"\"\n",
    "        pass\n"
   ]
  },
  {
   "cell_type": "code",
   "execution_count": 6,
   "id": "4be64c57",
   "metadata": {},
   "outputs": [],
   "source": [
    "@tool\n",
    "def calculate_total_cost(price:float,days:float)->float:\n",
    "        \"\"\"This tool provides total cost for given hotel price and no.of days\"\"\"\n",
    "        pass"
   ]
  },
  {
   "cell_type": "code",
   "execution_count": 7,
   "id": "44ec5e6d",
   "metadata": {},
   "outputs": [],
   "source": [
    "@tool\n",
    "def add(a:float,b:float)->float:\n",
    "    \"\"\"This tool provides addition of two numbers\"\"\"\n",
    "    pass"
   ]
  },
  {
   "cell_type": "code",
   "execution_count": 8,
   "id": "c6a00674",
   "metadata": {},
   "outputs": [],
   "source": [
    "@tool\n",
    "def multiply(a:float,b:float)->float:\n",
    "    \"\"\"This tool provides multiplication of two numbers\"\"\"\n",
    "    pass"
   ]
  },
  {
   "cell_type": "code",
   "execution_count": 9,
   "id": "9141dfd0",
   "metadata": {},
   "outputs": [],
   "source": [
    "@tool\n",
    "def currency_conversion()->float:\n",
    "    \"\"\"This tool converts given USD to equivalent currency amount in given location\"\"\"\n",
    "    pass"
   ]
  },
  {
   "cell_type": "code",
   "execution_count": 10,
   "id": "0147616e",
   "metadata": {},
   "outputs": [],
   "source": [
    "def complete_Itenary_generation():\n",
    "    pass\n"
   ]
  },
  {
   "cell_type": "code",
   "execution_count": 11,
   "id": "555434a9",
   "metadata": {},
   "outputs": [],
   "source": [
    "def total_trip_expenses():\n",
    "    pass"
   ]
  },
  {
   "cell_type": "code",
   "execution_count": 12,
   "id": "3ccd98c9",
   "metadata": {},
   "outputs": [],
   "source": [
    "def agent_planning(state:MessagesState):\n",
    "    pass"
   ]
  },
  {
   "cell_type": "code",
   "execution_count": 13,
   "id": "518b6a86",
   "metadata": {},
   "outputs": [],
   "source": [
    "workflow1=StateGraph(MessagesState)"
   ]
  },
  {
   "cell_type": "code",
   "execution_count": 14,
   "id": "3d107d20",
   "metadata": {},
   "outputs": [
    {
     "data": {
      "text/plain": [
       "<langgraph.graph.state.StateGraph at 0x29e348eed80>"
      ]
     },
     "execution_count": 14,
     "metadata": {},
     "output_type": "execute_result"
    }
   ],
   "source": [
    "workflow1.add_node(\"Agent_Planning\",agent_planning)"
   ]
  },
  {
   "cell_type": "code",
   "execution_count": 15,
   "id": "bcfaad52",
   "metadata": {},
   "outputs": [],
   "source": [
    "myTools=[get_attarction_activites,get_weather_detail,get_hotel_costs,get_hotel_price,calculate_total_cost,add,multiply,currency_conversion]"
   ]
  },
  {
   "cell_type": "code",
   "execution_count": 16,
   "id": "be9e5434",
   "metadata": {},
   "outputs": [],
   "source": [
    "tools=ToolNode(myTools)"
   ]
  },
  {
   "cell_type": "code",
   "execution_count": 17,
   "id": "c2e0e447",
   "metadata": {},
   "outputs": [
    {
     "data": {
      "text/plain": [
       "<langgraph.graph.state.StateGraph at 0x29e348eed80>"
      ]
     },
     "execution_count": 17,
     "metadata": {},
     "output_type": "execute_result"
    }
   ],
   "source": [
    "workflow1.add_node(\"tools\",tools)"
   ]
  },
  {
   "cell_type": "code",
   "execution_count": 18,
   "id": "79bed869",
   "metadata": {},
   "outputs": [
    {
     "data": {
      "text/plain": [
       "<langgraph.graph.state.StateGraph at 0x29e348eed80>"
      ]
     },
     "execution_count": 18,
     "metadata": {},
     "output_type": "execute_result"
    }
   ],
   "source": [
    "workflow1.add_edge(START,\"Agent_Planning\")"
   ]
  },
  {
   "cell_type": "code",
   "execution_count": 19,
   "id": "94eab756",
   "metadata": {},
   "outputs": [
    {
     "data": {
      "text/plain": [
       "<langgraph.graph.state.StateGraph at 0x29e348eed80>"
      ]
     },
     "execution_count": 19,
     "metadata": {},
     "output_type": "execute_result"
    }
   ],
   "source": [
    "workflow1.add_conditional_edges(\"Agent_Planning\",tools_condition)\n",
    "workflow1.add_edge(\"tools\",\"Agent_Planning\")"
   ]
  },
  {
   "cell_type": "code",
   "execution_count": 20,
   "id": "8be5b774",
   "metadata": {},
   "outputs": [
    {
     "data": {
      "image/png": "[encoded data removed]",
      "text/plain": [
       "<langgraph.graph.state.CompiledStateGraph object at 0x0000029E3495E7B0>"
      ]
     },
     "execution_count": 20,
     "metadata": {},
     "output_type": "execute_result"
    }
   ],
   "source": [
    "workflow1.compile()"
   ]
  },
  {
   "cell_type": "code",
   "execution_count": null,
   "id": "d235164c",
   "metadata": {},
   "outputs": [],
   "source": []
  }
 ],
 "metadata": {
  "kernelspec": {
   "display_name": "myvenv",
   "language": "python",
   "name": "python3"
  },
  "language_info": {
   "codemirror_mode": {
    "name": "ipython",
    "version": 3
   },
   "file_extension": ".py",
   "mimetype": "text/x-python",
   "name": "python",
   "nbconvert_exporter": "python",
   "pygments_lexer": "ipython3",
   "version": "3.12.7"
  }
 },
 "nbformat": 4,
 "nbformat_minor": 5
}
