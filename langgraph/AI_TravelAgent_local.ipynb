{
 "cells": [
  {
   "cell_type": "markdown",
   "id": "a6fb8674",
   "metadata": {},
   "source": [
    "#### AI Travel Agent & Expense Planner\n",
    "##### Purpose: Trip planning for any city worldwide with Realtime data."
   ]
  },
  {
   "cell_type": "code",
   "execution_count": 1,
   "id": "1dbcff06",
   "metadata": {},
   "outputs": [],
   "source": [
    "from langgraph.graph import START,END,StateGraph,MessagesState\n",
    "from langchain_community.tools import tool\n",
    "from langgraph.prebuilt import tools_condition,ToolNode\n",
    "from langchain_community.tools import DuckDuckGoSearchResults\n",
    "from langchain_core.messages import HumanMessage, SystemMessage\n",
    "from langgraph.graph.message import MessagesState\n",
    "from typing import TypedDict, List, Union\n",
    "from langchain_core.messages import BaseMessage\n",
    "from typing import Annotated,TypedDict,List,Sequence\n",
    "from pydantic import BaseModel,Field\n",
    "from langchain_core.messages import BaseMessage\n",
    "import operator\n",
    "from langchain_community.utilities.alpha_vantage import AlphaVantageAPIWrapper\n",
    "\n",
    "\n",
    "class MessageState(TypedDict):\n",
    "    messages:Annotated[Sequence[BaseMessage], operator.add]\n",
    "    step:int\n",
    "    origin: str\n",
    "    destination: str\n",
    "    days: float\n",
    "    budget: float"
   ]
  },
  {
   "cell_type": "code",
   "execution_count": 2,
   "id": "2a4c56dd",
   "metadata": {},
   "outputs": [],
   "source": [
    "from pydantic import BaseModel,Field\n",
    "from typing import List\n",
    "\n",
    "class Format(BaseModel):\n",
    "    attractions:List[str]=Field(description=\"list of top 5 attractions at given location\")\n",
    "    restaurants:List[str]=Field(description=\"list of top 5 restaurants at given location\")\n",
    "    activities:List[str]=Field(description=\"list of top 5 activities to do, at given location\")\n",
    "    transportation:List[str]=Field(description=\"list of ways to transport from place of origin to given location\")\n",
    "    \n"
   ]
  },
  {
   "cell_type": "code",
   "execution_count": 3,
   "id": "c5c22ffd",
   "metadata": {},
   "outputs": [],
   "source": [
    "from langchain_core.output_parsers import PydanticOutputParser\n",
    "from langchain_groq import ChatGroq\n",
    "\n",
    "output_parser=PydanticOutputParser(pydantic_object=Format)\n",
    "llm=ChatGroq(model=\"llama-3.1-8b-instant\")\n",
    "\n",
    "from langchain_core.prompts import PromptTemplate\n"
   ]
  },
  {
   "cell_type": "code",
   "execution_count": 4,
   "id": "e6650d3e",
   "metadata": {},
   "outputs": [],
   "source": [
    "@tool\n",
    "def get_attarction_activites(Location:str,origin:str)->str:\n",
    "\n",
    "    \"\"\"This tool provides list of top 5 attractions, list of top 5 resturants with multi-cusines, list of top 5 activities to do and ways of transporation in given location \n",
    "    \n",
    "    Args:\n",
    "        Location (str): Trip Destination location\n",
    "        origin (str): Place of origin for trip\n",
    "        \n",
    "\n",
    "    Returns:\n",
    "        str: Deatils of attrcation of given location\n",
    "        \n",
    "        \"\"\"\n",
    "    \n",
    "    \n",
    "    prompt=PromptTemplate.from_template(\"\"\"You are a helpful assistant that provides the following details about a destination:\n",
    "                                            - Top 5 tourist attractions\n",
    "                                            - Top 5 multi-cuisine restaurants\n",
    "                                            - Top 5 activities to do\n",
    "                                            - Ways of transportation from the place of origin to the destination\n",
    "\n",
    "                                            Place of origin: {origin}\n",
    "                                            Destination: {Location}\n",
    "\n",
    "                                            Respond ONLY in the following JSON format:\n",
    "                                            {format_instructions}\n",
    "                                            \"\"\")\n",
    "    \n",
    "    chain= prompt| llm | output_parser\n",
    "    res= chain.invoke({\"Location\":Location,\"origin\":origin,\"format_instructions\":output_parser.get_format_instructions()})\n",
    "    print(\"res\",res)\n",
    "\n",
    "    \n",
    "    \n",
    "    return res"
   ]
  },
  {
   "cell_type": "code",
   "execution_count": 5,
   "id": "fa0d1520",
   "metadata": {},
   "outputs": [],
   "source": [
    "#get_attarction_activites.invoke({\"Location\":\"london\",\"origin\":\"india\"})\n",
    "\n",
    "\n"
   ]
  },
  {
   "cell_type": "markdown",
   "id": "bd3ddf1a",
   "metadata": {},
   "source": [
    "#### Using `PyOWM` to fetch weather information of given Location"
   ]
  },
  {
   "cell_type": "code",
   "execution_count": 6,
   "id": "b8c9d199",
   "metadata": {},
   "outputs": [
    {
     "name": "stderr",
     "output_type": "stream",
     "text": [
      "c:\\Users\\divya\\Documents\\GitHub\\Agentic\\myvenv\\Lib\\site-packages\\pyowm\\commons\\cityidregistry.py:7: UserWarning: pkg_resources is deprecated as an API. See https://setuptools.pypa.io/en/latest/pkg_resources.html. The pkg_resources package is slated for removal as early as 2025-11-30. Refrain from using this package or pin to Setuptools<81.\n",
      "  from pkg_resources import resource_filename\n"
     ]
    },
    {
     "data": {
      "text/plain": [
       "True"
      ]
     },
     "execution_count": 6,
     "metadata": {},
     "output_type": "execute_result"
    }
   ],
   "source": [
    "import os\n",
    "import pyowm\n",
    "from dotenv import load_dotenv\n",
    "\n",
    "from warnings import filterwarnings\n",
    "filterwarnings(\"ignore\")\n",
    "\n",
    "load_dotenv()"
   ]
  },
  {
   "cell_type": "code",
   "execution_count": 7,
   "id": "bbbf4b72",
   "metadata": {},
   "outputs": [],
   "source": [
    "@tool\n",
    "def get_weather_detail(Location:str)->str:\n",
    "    \n",
    "    \"\"\"This tool provides current and forecasting weather for given location\"\"\"\n",
    "\n",
    "    owm = pyowm.OWM(os.getenv(\"openweatherkey_one\"))\n",
    "    weather_mgr = owm.weather_manager()\n",
    "\n",
    "\n",
    "    # Current weather\n",
    "    observation = weather_mgr.weather_at_place(Location)\n",
    "    weather_now = observation.weather\n",
    "    current = {\n",
    "        \"temperature_celsius\": weather_now.temperature(\"celsius\")[\"temp\"],\n",
    "        \"humidity\": weather_now.humidity,\n",
    "        \"wind_speed_mps\": weather_now.wind()[\"speed\"],\n",
    "        \"status\": weather_now.detailed_status\n",
    "    }\n",
    "\n",
    "    # Forecast (next 5 x 3h intervals)\n",
    "    forecast = weather_mgr.forecast_at_place(Location, '3h')\n",
    "    forecast_data = []\n",
    "    for weather in forecast.forecast.weathers[:5]:  # limit to first 5 intervals\n",
    "        entry = {\n",
    "            \"time\": str(weather.reference_time('iso')),\n",
    "            \"temperature_celsius\": weather.temperature(\"celsius\")[\"temp\"],\n",
    "            \"humidity\": weather.humidity,\n",
    "            \"wind_speed_mps\": weather.wind()[\"speed\"],\n",
    "            \"status\": weather.detailed_status\n",
    "        }\n",
    "        forecast_data.append(entry)\n",
    "\n",
    "    result = {\n",
    "        \"location\": Location,\n",
    "        \"current_weather\": current,\n",
    "        \"forecast_next_15h\": forecast_data\n",
    "    }\n",
    "    \n",
    "\n",
    "    \n",
    "    return str(result)\n",
    "        \n",
    "    "
   ]
  },
  {
   "cell_type": "code",
   "execution_count": 8,
   "id": "9c736f3b",
   "metadata": {},
   "outputs": [],
   "source": [
    "#get_weather_detail.invoke({\"Location\":\"London\"})"
   ]
  },
  {
   "cell_type": "code",
   "execution_count": 9,
   "id": "a17930c8",
   "metadata": {},
   "outputs": [],
   "source": [
    "\n",
    "from langchain_community.tools.tavily_search import TavilySearchResults\n",
    "from langchain_core.prompts import ChatPromptTemplate\n",
    "from langchain.chains import LLMChain\n",
    "from langchain_community.tools import tool\n",
    "search_llm=ChatGroq(model=\"llama-3.1-8b-instant\")\n",
    "\n",
    "Tavily_search=TavilySearchResults()"
   ]
  },
  {
   "cell_type": "code",
   "execution_count": 10,
   "id": "a7c684fd",
   "metadata": {},
   "outputs": [],
   "source": [
    "@tool\n",
    "def search_hotels(Location:str,budget:float,days:float)->str:\n",
    "    \"\"\"This tool searches for hotels and its prices in given location\"\"\"\n",
    "\n",
    "\n",
    "    search_llm=ChatGroq(model=\"llama-3.1-8b-instant\")\n",
    "    price_day=budget/(days+2)\n",
    "    search_llm=ChatGroq(model=\"llama-3.1-8b-instant\")\n",
    "    hotels=search_llm.invoke(f\"No description required, Just give list of Hotel names in given {Location} with price per day {price_day}\")\n",
    "    print(hotels.content)\n",
    "    Hotel_name=input(\"Enter a Hotel name that you would like to check cost estimation\")\n",
    "    \n",
    "    return Hotel_name\n",
    "\n",
    "\n",
    "    \n",
    "    \n"
   ]
  },
  {
   "cell_type": "code",
   "execution_count": null,
   "id": "a15a72a7",
   "metadata": {},
   "outputs": [],
   "source": [
    "\n"
   ]
  },
  {
   "cell_type": "code",
   "execution_count": null,
   "id": "4e223a13",
   "metadata": {},
   "outputs": [],
   "source": [
    "\n",
    "\n",
    "\n"
   ]
  },
  {
   "cell_type": "code",
   "execution_count": 11,
   "id": "e28619c7",
   "metadata": {},
   "outputs": [],
   "source": [
    "@tool\n",
    "def get_hotel_price(Hotel_name:str,Location:str,budget:float,days:float)->str:\n",
    "        \"\"\"This tool provides price per Night for a given Hotel\"\"\"\n",
    "        \n",
    "        res=Tavily_search.invoke(f\"Provide price per night of {Hotel_name} in {Location}\")\n",
    "        print(res)\n",
    "        \n",
    "         # Convert list of dicts to plain text (context)\n",
    "        context_text = \"\\n\\n\".join(\n",
    "                f\"Title: {r['title']}\\nURL: {r['url']}\\nContent: {r['content']}\" for r in res \n",
    "        )\n",
    "\n",
    "        budget_hotel = budget / (days + 2)\n",
    "\n",
    "        print(context_text)\n",
    "\n",
    "        \n",
    "        prompt = f\"\"\"\n",
    "        You are provided with hotel search results.\n",
    "\n",
    "        Context:\n",
    "        {context_text}\n",
    "\n",
    "        Take lowest per-night price of the hotel based on the above content.\n",
    "        Compare it with the allowed per-night budget: ${budget_hotel:.2f}.\n",
    "\n",
    "        Then calculate total cost for {days} nights.\n",
    "        Also calculate how much budget will remain after booking from total budget: ${budget:.2f}\n",
    "\n",
    "        Return the answer in 2-3 lines, human-readable format.\n",
    "        \"\"\"\n",
    "\n",
    "        result = search_llm.invoke(prompt)\n",
    "\n",
    "        return result\n"
   ]
  },
  {
   "cell_type": "code",
   "execution_count": 12,
   "id": "4be64c57",
   "metadata": {},
   "outputs": [],
   "source": [
    "@tool\n",
    "def calculate_total_cost(price:float,days:float)->float:\n",
    "        \"\"\"This tool provides total cost for given hotel price and no.of days\"\"\"\n",
    "        pass"
   ]
  },
  {
   "cell_type": "code",
   "execution_count": 13,
   "id": "44ec5e6d",
   "metadata": {},
   "outputs": [],
   "source": [
    "@tool\n",
    "def add(a:float,b:float)->float:\n",
    "    \"\"\"This tool provides addition of two numbers\"\"\"\n",
    "    pass"
   ]
  },
  {
   "cell_type": "code",
   "execution_count": 14,
   "id": "c6a00674",
   "metadata": {},
   "outputs": [],
   "source": [
    "@tool\n",
    "def multiply(a:float,b:float)->float:\n",
    "    \"\"\"This tool provides multiplication of two numbers\"\"\"\n",
    "    pass"
   ]
  },
  {
   "cell_type": "code",
   "execution_count": 15,
   "id": "9141dfd0",
   "metadata": {},
   "outputs": [],
   "source": [
    "@tool\n",
    "def currency_conversion()->float:\n",
    "    \"\"\"This tool converts given USD to equivalent currency amount in given location\"\"\"\n",
    "    pass"
   ]
  },
  {
   "cell_type": "code",
   "execution_count": 16,
   "id": "0147616e",
   "metadata": {},
   "outputs": [],
   "source": [
    "def complete_Itenary_generation():\n",
    "    pass\n"
   ]
  },
  {
   "cell_type": "code",
   "execution_count": 17,
   "id": "555434a9",
   "metadata": {},
   "outputs": [],
   "source": [
    "def total_trip_expenses():\n",
    "    pass"
   ]
  },
  {
   "cell_type": "code",
   "execution_count": 18,
   "id": "0d532170",
   "metadata": {},
   "outputs": [],
   "source": [
    "def travel_Planning(state:MessageState):\n",
    "    origin=input(\"Enter the place of origin for the journey\").lower()\n",
    "    location=input(\"Enter the city name for which you want travel plan and details\").lower()\n",
    "    Days=input(\"Enter no.of days for the trip\")\n",
    "    Days=float(Days)\n",
    "    budget=input(\"Enter max budget in origin country currecy, for entire trip\")\n",
    "    budget=float(budget)\n",
    "    print(\"Please wait...., while our AI travel agent is planning Iternary according to your details.....\")\n",
    "    # print(type(Days),type(budget))\n",
    "    state[\"origin\"] = origin\n",
    "    state[\"destination\"] = location\n",
    "    state[\"days\"] = Days\n",
    "    state[\"budget\"] = budget\n",
    "\n",
    "\n",
    "    SYSTEM_PROMPT = SystemMessage(\n",
    "    content=f\"\"\"You are a helpful assistant tasked with currency conversion from Origin: {origin} to Destination: {location}, just provide currency codes nothing else\n",
    "    Return each code on a separate line like this:\\n\\nINR\\nGBP \"\"\")\n",
    "    res=search_llm.invoke([SYSTEM_PROMPT]+ [\"Return only the currency codes (e.g., INR, GBP), each on a separate line, of Origin and Destination\"])\n",
    "    origin_currency, destination_currency = res.content.split('\\n')\n",
    "    os.environ[\"ALPHAVANTAGE_API_KEY\"] = os.getenv(\"ALPHAVANTAGE_API_KEY\")\n",
    "    alpha_vantage = AlphaVantageAPIWrapper()\n",
    "    er=alpha_vantage._get_exchange_rate(origin_currency, destination_currency)['Realtime Currency Exchange Rate']['5. Exchange Rate']\n",
    "    er=float(er)\n",
    "    state[\"budget\"]=float(budget * er)\n",
    "    # print(\"********E N D of travel_planning*********\")\n",
    "    state[\"step\"]=1\n",
    "    # print(\"state intravel_planning:\", state)\n",
    "    # print(\"step in state\", state[\"step\"])\n",
    "\n",
    "\n",
    "    return state"
   ]
  },
  {
   "cell_type": "code",
   "execution_count": 19,
   "id": "409d3f0e",
   "metadata": {},
   "outputs": [],
   "source": [
    "myTools=[get_attarction_activites,get_weather_detail,search_hotels,get_hotel_price,calculate_total_cost,add,multiply]"
   ]
  },
  {
   "cell_type": "code",
   "execution_count": 20,
   "id": "490e68d8",
   "metadata": {},
   "outputs": [],
   "source": [
    "from langchain_openai import ChatOpenAI\n",
    "agent=ChatOpenAI(model=\"o4-mini\")\n",
    "React_agent=agent.bind_tools(myTools)"
   ]
  },
  {
   "cell_type": "code",
   "execution_count": null,
   "id": "3ccd98c9",
   "metadata": {},
   "outputs": [],
   "source": [
    "def agent_planning(state:MessageState):\n",
    "    # print(\"\\n$$$$$$$$ start of agent planning$$$$$$$$$$$44\")\n",
    "    current_step=state[\"step\"]\n",
    "    \n",
    "\n",
    "\n",
    "    \n",
    "    # print(\"\\n######### S T E P while entering #############\\n\",state[\"step\"])\n",
    "\n",
    "    origin = state[\"origin\"]\n",
    "    destination = state[\"destination\"]\n",
    "    days = state[\"days\"]\n",
    "    budget = state[\"budget\"]\n",
    "    step_name={\n",
    "        0:\"Currency conversion\",\n",
    "        1:\"Search for Attractions and Activities\",\n",
    "        2:\"Search for weather and forecasting\",\n",
    "        3:\"Search for Hotels in given location\",\n",
    "        4:\"Search price of given Hotel received from search_hotels\",\n",
    "        5:\"END the process\"\n",
    "    }[current_step]\n",
    "\n",
    "    if len(state[\"messages\"])==0:\n",
    "        context=HumanMessage(content=\"Start planning.\")\n",
    "    else:\n",
    "        context=state[\"messages\"][-1]\n",
    "\n",
    "    template = \"\"\"You are a helpful Travel planning assistant with binded tools, planning trip from {origin} to given Destination {destination}, for {days} days with total budget of {budget}.\n",
    "                    Only take actions based on current step: \"{current_step}\".\n",
    "                    Now perform step {current_step}: {step_name}.\n",
    "                    Context: {context}\"\"\"\n",
    "\n",
    "    prompt = PromptTemplate.from_template(template)\n",
    "\n",
    "    # Assuming React_agent expects PromptTemplate and chaining works\n",
    "    chain = prompt | React_agent\n",
    "\n",
    "    inputs = {\n",
    "        \"origin\": origin,\n",
    "        \"destination\": destination,\n",
    "        \"days\": days,\n",
    "        \"budget\": budget,\n",
    "        \"current_step\": current_step,\n",
    "        \"step_name\": step_name,\n",
    "        \"context\": context,\n",
    "    }\n",
    "    res = chain.invoke(inputs)\n",
    "    \n",
    "\n",
    "    if res.tool_calls:\n",
    "        state[\"step\"]+=1\n",
    "        # print(\"$$$$$$$$$$$$$$$$$$$$$$$$$$$$$$$$$$$$$$$$$$$$$$$$$$$$$$$$$$$$\")\n",
    "        # print(\"\\nstep incremented\",state[\"step\"])\n",
    "    \n",
    "    # print(\"\\n--------- S T A T E ------------\")\n",
    "    # for m in state[\"messages\"]:\n",
    "    #     m.pretty_print()\n",
    "\n",
    "\n",
    "    return {\"messages\":[res],\"step\":state[\"step\"]}"
   ]
  },
  {
   "cell_type": "code",
   "execution_count": 22,
   "id": "5296dc08",
   "metadata": {},
   "outputs": [],
   "source": [
    "# print(res.tool_calls)\n"
   ]
  },
  {
   "cell_type": "code",
   "execution_count": 23,
   "id": "518b6a86",
   "metadata": {},
   "outputs": [],
   "source": [
    "workflow1=StateGraph(MessageState)\n",
    "\n",
    "\n",
    "\n"
   ]
  },
  {
   "cell_type": "code",
   "execution_count": null,
   "id": "743bd608",
   "metadata": {},
   "outputs": [],
   "source": [
    "\n",
    "\n",
    "\n"
   ]
  },
  {
   "cell_type": "code",
   "execution_count": 24,
   "id": "1a98d38b",
   "metadata": {},
   "outputs": [
    {
     "data": {
      "text/plain": [
       "<langgraph.graph.state.StateGraph at 0x20470740980>"
      ]
     },
     "execution_count": 24,
     "metadata": {},
     "output_type": "execute_result"
    }
   ],
   "source": [
    "workflow1.add_node(\"start_planning\",travel_Planning)"
   ]
  },
  {
   "cell_type": "code",
   "execution_count": 25,
   "id": "3d107d20",
   "metadata": {},
   "outputs": [
    {
     "data": {
      "text/plain": [
       "<langgraph.graph.state.StateGraph at 0x20470740980>"
      ]
     },
     "execution_count": 25,
     "metadata": {},
     "output_type": "execute_result"
    }
   ],
   "source": [
    "workflow1.add_node(\"Agent_Planning\",agent_planning)"
   ]
  },
  {
   "cell_type": "code",
   "execution_count": 26,
   "id": "bcfaad52",
   "metadata": {},
   "outputs": [],
   "source": [
    "myTools=[get_attarction_activites,get_weather_detail,search_hotels,get_hotel_price,calculate_total_cost,add,multiply,currency_conversion]"
   ]
  },
  {
   "cell_type": "code",
   "execution_count": 27,
   "id": "be9e5434",
   "metadata": {},
   "outputs": [],
   "source": [
    "tools=ToolNode(myTools)"
   ]
  },
  {
   "cell_type": "code",
   "execution_count": 28,
   "id": "c2e0e447",
   "metadata": {},
   "outputs": [
    {
     "data": {
      "text/plain": [
       "<langgraph.graph.state.StateGraph at 0x20470740980>"
      ]
     },
     "execution_count": 28,
     "metadata": {},
     "output_type": "execute_result"
    }
   ],
   "source": [
    "workflow1.add_node(\"tools\",tools)"
   ]
  },
  {
   "cell_type": "code",
   "execution_count": 29,
   "id": "79bed869",
   "metadata": {},
   "outputs": [
    {
     "data": {
      "text/plain": [
       "<langgraph.graph.state.StateGraph at 0x20470740980>"
      ]
     },
     "execution_count": 29,
     "metadata": {},
     "output_type": "execute_result"
    }
   ],
   "source": [
    "workflow1.add_edge(START,\"start_planning\")"
   ]
  },
  {
   "cell_type": "code",
   "execution_count": 30,
   "id": "d8eccbb5",
   "metadata": {},
   "outputs": [
    {
     "data": {
      "text/plain": [
       "<langgraph.graph.state.StateGraph at 0x20470740980>"
      ]
     },
     "execution_count": 30,
     "metadata": {},
     "output_type": "execute_result"
    }
   ],
   "source": [
    "workflow1.add_edge(\"start_planning\",\"Agent_Planning\")"
   ]
  },
  {
   "cell_type": "code",
   "execution_count": 31,
   "id": "94eab756",
   "metadata": {},
   "outputs": [
    {
     "data": {
      "text/plain": [
       "<langgraph.graph.state.StateGraph at 0x20470740980>"
      ]
     },
     "execution_count": 31,
     "metadata": {},
     "output_type": "execute_result"
    }
   ],
   "source": [
    "workflow1.add_conditional_edges(\"Agent_Planning\",tools_condition)\n",
    "workflow1.add_edge(\"tools\",\"Agent_Planning\")"
   ]
  },
  {
   "cell_type": "code",
   "execution_count": 32,
   "id": "8be5b774",
   "metadata": {},
   "outputs": [],
   "source": [
    "react_agent=workflow1.compile()"
   ]
  },
  {
   "cell_type": "code",
   "execution_count": 33,
   "id": "d235164c",
   "metadata": {},
   "outputs": [
    {
     "data": {
      "image/png": "[encoded data removed]",
      "text/plain": [
       "<IPython.core.display.Image object>"
      ]
     },
     "metadata": {},
     "output_type": "display_data"
    }
   ],
   "source": [
    "from IPython.display import Image, display\n",
    "display(Image(react_agent.get_graph().draw_mermaid_png()))"
   ]
  },
  {
   "cell_type": "code",
   "execution_count": 34,
   "id": "5c3a984b",
   "metadata": {},
   "outputs": [],
   "source": [
    "from langchain_core.messages import HumanMessage, SystemMessage\n",
    "#react_agent.invoke({\"messages\":[]})\n",
    "\n"
   ]
  },
  {
   "cell_type": "code",
   "execution_count": 35,
   "id": "ff7fa202",
   "metadata": {},
   "outputs": [
    {
     "name": "stdout",
     "output_type": "stream",
     "text": [
      "Please wait...., while our AI travel agent is planning Iternary according to your details.....\n",
      "here is output from start_planning\n",
      "_______\n",
      "{'messages': [], 'origin': 'india', 'destination': 'london', 'days': 5.0, 'budget': 2580.0, 'step': 1}\n",
      "\n",
      "\n",
      "\n",
      "****************************\n",
      "2580.0\n",
      "here is output from Agent_Planning\n",
      "_______\n",
      "{'messages': [AIMessage(content='', additional_kwargs={'tool_calls': [{'id': 'call_55OjNB0cIMQj1N8Zgyug6Awk', 'function': {'arguments': '{\"Location\":\"london\",\"origin\":\"india\"}', 'name': 'get_attarction_activites'}, 'type': 'function'}], 'refusal': None}, response_metadata={'token_usage': {'completion_tokens': 225, 'prompt_tokens': 385, 'total_tokens': 610, 'completion_tokens_details': {'accepted_prediction_tokens': 0, 'audio_tokens': 0, 'reasoning_tokens': 192, 'rejected_prediction_tokens': 0}, 'prompt_tokens_details': {'audio_tokens': 0, 'cached_tokens': 0}}, 'model_name': 'o4-mini-2025-04-16', 'system_fingerprint': None, 'id': 'chatcmpl-Bjv4Sc5FCyeYySEHHPpO8VVNn8UHw', 'service_tier': 'default', 'finish_reason': 'tool_calls', 'logprobs': None}, id='run--055f4c3f-f1a4-40b8-ad3c-0d1c02df2822-0', tool_calls=[{'name': 'get_attarction_activites', 'args': {'Location': 'london', 'origin': 'india'}, 'id': 'call_55OjNB0cIMQj1N8Zgyug6Awk', 'type': 'tool_call'}], usage_metadata={'input_tokens': 385, 'output_tokens': 225, 'total_tokens': 610, 'input_token_details': {'audio': 0, 'cache_read': 0}, 'output_token_details': {'audio': 0, 'reasoning': 192}})], 'step': 2}\n",
      "\n",
      "\n",
      "res attractions=['The British Museum', 'The National Gallery', 'The Tower of London', 'Buckingham Palace', 'The London Eye'] restaurants=['The Delaunay', 'Padella', 'Honey & Co', 'The Barbary', 'Dishoom'] activities=['Take a River Thames Cruise', 'Explore the British Museum', 'Walk in Hyde Park', 'Visit the Sky Garden', 'Watch a West End Show'] transportation=['Flight from India to London Heathrow or Gatwick Airport', 'Connecting flights from regional airports in India', 'Train from India to London via the Eurostar', 'Bus and coach services from India to London', 'Cruise ships from Indian ports to London']\n",
      "here is output from tools\n",
      "_______\n",
      "{'messages': [ToolMessage(content=\"attractions=['The British Museum', 'The National Gallery', 'The Tower of London', 'Buckingham Palace', 'The London Eye'] restaurants=['The Delaunay', 'Padella', 'Honey & Co', 'The Barbary', 'Dishoom'] activities=['Take a River Thames Cruise', 'Explore the British Museum', 'Walk in Hyde Park', 'Visit the Sky Garden', 'Watch a West End Show'] transportation=['Flight from India to London Heathrow or Gatwick Airport', 'Connecting flights from regional airports in India', 'Train from India to London via the Eurostar', 'Bus and coach services from India to London', 'Cruise ships from Indian ports to London']\", name='get_attarction_activites', tool_call_id='call_55OjNB0cIMQj1N8Zgyug6Awk')]}\n",
      "\n",
      "\n",
      "\n",
      "****************************\n",
      "2580.0\n",
      "here is output from Agent_Planning\n",
      "_______\n",
      "{'messages': [AIMessage(content='', additional_kwargs={'tool_calls': [{'id': 'call_CbxHdk76aQILdMXE0H4xYnNR', 'function': {'arguments': '{\"Location\":\"London\"}', 'name': 'get_weather_detail'}, 'type': 'function'}], 'refusal': None}, response_metadata={'token_usage': {'completion_tokens': 24, 'prompt_tokens': 550, 'total_tokens': 574, 'completion_tokens_details': {'accepted_prediction_tokens': 0, 'audio_tokens': 0, 'reasoning_tokens': 0, 'rejected_prediction_tokens': 0}, 'prompt_tokens_details': {'audio_tokens': 0, 'cached_tokens': 0}}, 'model_name': 'o4-mini-2025-04-16', 'system_fingerprint': None, 'id': 'chatcmpl-Bjv4V65rMmXml8OBIgTnki2s0rBwp', 'service_tier': 'default', 'finish_reason': 'tool_calls', 'logprobs': None}, id='run--710057d1-7410-40d9-aef3-f1a7744177c8-0', tool_calls=[{'name': 'get_weather_detail', 'args': {'Location': 'London'}, 'id': 'call_CbxHdk76aQILdMXE0H4xYnNR', 'type': 'tool_call'}], usage_metadata={'input_tokens': 550, 'output_tokens': 24, 'total_tokens': 574, 'input_token_details': {'audio': 0, 'cache_read': 0}, 'output_token_details': {'audio': 0, 'reasoning': 0}})], 'step': 3}\n",
      "\n",
      "\n",
      "here is output from tools\n",
      "_______\n",
      "{'messages': [ToolMessage(content=\"{'location': 'London', 'current_weather': {'temperature_celsius': 21.46, 'humidity': 66, 'wind_speed_mps': 3.6, 'status': 'clear sky'}, 'forecast_next_15h': [{'time': '2025-06-19 00:00:00+00:00', 'temperature_celsius': 20.89, 'humidity': 66, 'wind_speed_mps': 0.26, 'status': 'few clouds'}, {'time': '2025-06-19 03:00:00+00:00', 'temperature_celsius': 18.78, 'humidity': 70, 'wind_speed_mps': 0.14, 'status': 'clear sky'}, {'time': '2025-06-19 06:00:00+00:00', 'temperature_celsius': 19.43, 'humidity': 65, 'wind_speed_mps': 0.2, 'status': 'clear sky'}, {'time': '2025-06-19 09:00:00+00:00', 'temperature_celsius': 25.65, 'humidity': 46, 'wind_speed_mps': 0.71, 'status': 'clear sky'}, {'time': '2025-06-19 12:00:00+00:00', 'temperature_celsius': 28.94, 'humidity': 33, 'wind_speed_mps': 1.04, 'status': 'clear sky'}]}\", name='get_weather_detail', tool_call_id='call_CbxHdk76aQILdMXE0H4xYnNR')]}\n",
      "\n",
      "\n",
      "\n",
      "****************************\n",
      "2580.0\n",
      "here is output from Agent_Planning\n",
      "_______\n",
      "{'messages': [AIMessage(content='', additional_kwargs={'tool_calls': [{'id': 'call_rPGKXHq9WlnUnuxhSiCLfz5q', 'function': {'arguments': '{\"Location\":\"London\",\"budget\":2580,\"days\":5}', 'name': 'search_hotels'}, 'type': 'function'}], 'refusal': None}, response_metadata={'token_usage': {'completion_tokens': 97, 'prompt_tokens': 733, 'total_tokens': 830, 'completion_tokens_details': {'accepted_prediction_tokens': 0, 'audio_tokens': 0, 'reasoning_tokens': 64, 'rejected_prediction_tokens': 0}, 'prompt_tokens_details': {'audio_tokens': 0, 'cached_tokens': 0}}, 'model_name': 'o4-mini-2025-04-16', 'system_fingerprint': None, 'id': 'chatcmpl-Bjv4YV7eZ3drT8cAMBuzGUBwYWlGx', 'service_tier': 'default', 'finish_reason': 'tool_calls', 'logprobs': None}, id='run--5b2072b0-3307-4671-b5a2-bb4dcd8cfeaa-0', tool_calls=[{'name': 'search_hotels', 'args': {'Location': 'London', 'budget': 2580, 'days': 5}, 'id': 'call_rPGKXHq9WlnUnuxhSiCLfz5q', 'type': 'tool_call'}], usage_metadata={'input_tokens': 733, 'output_tokens': 97, 'total_tokens': 830, 'input_token_details': {'audio': 0, 'cache_read': 0}, 'output_token_details': {'audio': 0, 'reasoning': 64}})], 'step': 4}\n",
      "\n",
      "\n",
      "Based on the given price, here are some hotel options in London:\n",
      "\n",
      "1. Novotel London City East - £165 - £200 per night (approximately £168.75 per night - 368.57142857142856 price match within 2% tolerance)\n",
      "2. Ibis London Earl's Court - £140 - £175 per night (approximately £157.50 per night - 428.5714285714285 price match within 16% tolerance, but closest option)\n",
      "3. Premier Inn London County Hall - £140 - £225 per night (approximately £182.50 per night - 497.6190476190476 price match within 35% tolerance, but not price match)\n",
      "4. Hampton by Hilton London Waterloo - £120 - £180 per night (approximately £150 per night - 407.6923076923077 price match within 10% tolerance, but not price match)\n",
      "5. Travelodge London Central Tower Bridge - £75 - £150 per night (approximately £112.50 per night - 306.1224489801244 price match within 17% tolerance, but not price match)\n",
      "\n",
      "Please note that prices can vary greatly depending on the time of year, and the given price may not be available for all dates. The prices listed above are approximate and based on the hotel's average price per night.\n",
      "here is output from tools\n",
      "_______\n",
      "{'messages': [ToolMessage(content='Hampton by Hilton London Waterloo', name='search_hotels', tool_call_id='call_rPGKXHq9WlnUnuxhSiCLfz5q')]}\n",
      "\n",
      "\n",
      "\n",
      "****************************\n",
      "2580.0\n",
      "here is output from Agent_Planning\n",
      "_______\n",
      "{'messages': [AIMessage(content='', additional_kwargs={'tool_calls': [{'id': 'call_sAYrISmLYJRzq78xE834cS5v', 'function': {'arguments': '{\"Hotel_name\":\"Hampton by Hilton London Waterloo\",\"Location\":\"London\",\"budget\":2580.0,\"days\":5.0}', 'name': 'get_hotel_price'}, 'type': 'function'}], 'refusal': None}, response_metadata={'token_usage': {'completion_tokens': 304, 'prompt_tokens': 417, 'total_tokens': 721, 'completion_tokens_details': {'accepted_prediction_tokens': 0, 'audio_tokens': 0, 'reasoning_tokens': 256, 'rejected_prediction_tokens': 0}, 'prompt_tokens_details': {'audio_tokens': 0, 'cached_tokens': 0}}, 'model_name': 'o4-mini-2025-04-16', 'system_fingerprint': None, 'id': 'chatcmpl-Bjv4pXPlVvUJBYTpCC8uUuKZ6RYFt', 'service_tier': 'default', 'finish_reason': 'tool_calls', 'logprobs': None}, id='run--27b8d02e-3217-49ee-bba7-a76242b15053-0', tool_calls=[{'name': 'get_hotel_price', 'args': {'Hotel_name': 'Hampton by Hilton London Waterloo', 'Location': 'London', 'budget': 2580.0, 'days': 5.0}, 'id': 'call_sAYrISmLYJRzq78xE834cS5v', 'type': 'tool_call'}], usage_metadata={'input_tokens': 417, 'output_tokens': 304, 'total_tokens': 721, 'input_token_details': {'audio': 0, 'cache_read': 0}, 'output_token_details': {'audio': 0, 'reasoning': 256}})], 'step': 5}\n",
      "\n",
      "\n",
      "[{'title': 'Hotel Hampton by Hilton London Waterloo, United Kingdom - Trivago', 'url': 'https://www.trivago.com/en-US/oar/hotel-hampton-by-hilton-london-waterloo?search=100-3114706', 'content': 'Compare hotel prices and find an amazing price for the Hampton by Hilton London Waterloo Hotel in London, United Kingdom ... $149 per night. Expected price', 'score': 0.9205687}, {'title': 'Hampton by Hilton London Waterloo - Hotels.com', 'url': 'https://www.hotels.com/ho448661/hampton-by-hilton-london-waterloo-london-united-kingdom/', 'content': 'Relax with in-room WiFi or dry cleaning/laundry services at your fingertips. The helpful staff has left a lasting impression on previous guests. $132 nightly.', 'score': 0.8886914}, {'title': 'Hampton by Hilton London Waterloo Reviews, Deals & Photos 2025', 'url': 'https://www.expedia.com/London-Hotels-Hampton-By-Hilton-London-Waterloo.h7110782.Hotel-Information', 'content': 'As of Jun 15, 2025, prices found for a 1-night stay for 2 adults at Hampton ... Waterloo on Jun 29, 2025 start from $131.69, excluding taxes and fees.', 'score': 0.88420963}, {'title': 'Hampton by Hilton London Waterloo Hotel - Agoda.com', 'url': 'https://www.agoda.com/hampton-by-hilton-london-waterloo/hotel/london-gb.html', 'content': \"With an average price of $310 per room, this hotel offers exceptional value for money compared to the city's average price of $260 per room. At Hampton by\", 'score': 0.83452857}, {'title': 'Hampton by Hilton London Waterloo - Booking.com', 'url': 'https://www.booking.com/hotel/gb/hampton-by-hilton-london-waterloo.html', 'content': \"The prices at Hampton by Hilton London Waterloo may vary depending on your stay (e.g. dates, hotel's policy etc.). To see prices, enter your dates. Does Hampton\", 'score': 0.47636098}]\n",
      "Title: Hotel Hampton by Hilton London Waterloo, United Kingdom - Trivago\n",
      "URL: https://www.trivago.com/en-US/oar/hotel-hampton-by-hilton-london-waterloo?search=100-3114706\n",
      "Content: Compare hotel prices and find an amazing price for the Hampton by Hilton London Waterloo Hotel in London, United Kingdom ... $149 per night. Expected price\n",
      "\n",
      "Title: Hampton by Hilton London Waterloo - Hotels.com\n",
      "URL: https://www.hotels.com/ho448661/hampton-by-hilton-london-waterloo-london-united-kingdom/\n",
      "Content: Relax with in-room WiFi or dry cleaning/laundry services at your fingertips. The helpful staff has left a lasting impression on previous guests. $132 nightly.\n",
      "\n",
      "Title: Hampton by Hilton London Waterloo Reviews, Deals & Photos 2025\n",
      "URL: https://www.expedia.com/London-Hotels-Hampton-By-Hilton-London-Waterloo.h7110782.Hotel-Information\n",
      "Content: As of Jun 15, 2025, prices found for a 1-night stay for 2 adults at Hampton ... Waterloo on Jun 29, 2025 start from $131.69, excluding taxes and fees.\n",
      "\n",
      "Title: Hampton by Hilton London Waterloo Hotel - Agoda.com\n",
      "URL: https://www.agoda.com/hampton-by-hilton-london-waterloo/hotel/london-gb.html\n",
      "Content: With an average price of $310 per room, this hotel offers exceptional value for money compared to the city's average price of $260 per room. At Hampton by\n",
      "\n",
      "Title: Hampton by Hilton London Waterloo - Booking.com\n",
      "URL: https://www.booking.com/hotel/gb/hampton-by-hilton-london-waterloo.html\n",
      "Content: The prices at Hampton by Hilton London Waterloo may vary depending on your stay (e.g. dates, hotel's policy etc.). To see prices, enter your dates. Does Hampton\n",
      "here is output from tools\n",
      "_______\n",
      "{'messages': [ToolMessage(content=\"content='Based on the provided content, the lowest per-night price of the hotel is $131.69 (found on Expedia).\\\\n\\\\nTotal cost for 5.0 nights is: $131.69 * 5 = $658.45\\\\nRemaining budget after booking: $2580.00 - $658.45 = $1921.55' additional_kwargs={} response_metadata={'token_usage': {'completion_tokens': 70, 'prompt_tokens': 526, 'total_tokens': 596, 'completion_time': 0.125618387, 'prompt_time': 0.031121159, 'queue_time': 0.19687470799999998, 'total_time': 0.156739546}, 'model_name': 'llama-3.1-8b-instant', 'system_fingerprint': 'fp_45b1c690be', 'finish_reason': 'stop', 'logprobs': None} id='run--1d80e73c-7224-4da3-b40f-0507dcebe655-0' usage_metadata={'input_tokens': 526, 'output_tokens': 70, 'total_tokens': 596}\", name='get_hotel_price', tool_call_id='call_sAYrISmLYJRzq78xE834cS5v')]}\n",
      "\n",
      "\n",
      "\n",
      "****************************\n",
      "2580.0\n",
      "here is output from Agent_Planning\n",
      "_______\n",
      "{'messages': [AIMessage(content='Your London trip planning is now complete! Here’s a concise summary:\\n\\n• Duration: 5 nights  \\n• Total Budget: $2,580.00  \\n• Hotel (Expedia): $131.69/night → $658.45 for 5 nights  \\n• Remaining Budget for dining, sightseeing, transport & activities: $1,921.55  \\n\\nNext Steps (on your own timeline):  \\n1. Book flights (if not yet done).  \\n2. Reserve your chosen hotel at the quoted rate.  \\n3. Use the remaining budget for attractions, dining, local transport, and any advance activity bookings.  \\n\\nEnjoy your journey to London — have a fantastic trip!', additional_kwargs={'refusal': None}, response_metadata={'token_usage': {'completion_tokens': 346, 'prompt_tokens': 656, 'total_tokens': 1002, 'completion_tokens_details': {'accepted_prediction_tokens': 0, 'audio_tokens': 0, 'reasoning_tokens': 192, 'rejected_prediction_tokens': 0}, 'prompt_tokens_details': {'audio_tokens': 0, 'cached_tokens': 0}}, 'model_name': 'o4-mini-2025-04-16', 'system_fingerprint': None, 'id': 'chatcmpl-Bjv4ygswFZ8LcWV3q38R6o1Hgsi3Q', 'service_tier': 'default', 'finish_reason': 'stop', 'logprobs': None}, id='run--873cf85b-0110-40cd-864b-833e764b98c0-0', usage_metadata={'input_tokens': 656, 'output_tokens': 346, 'total_tokens': 1002, 'input_token_details': {'audio': 0, 'cache_read': 0}, 'output_token_details': {'audio': 0, 'reasoning': 192}})], 'step': 5}\n",
      "\n",
      "\n"
     ]
    }
   ],
   "source": [
    "for output in react_agent.stream({\"messages\":[]}):\n",
    "    for key,value in output.items():\n",
    "        print(f\"here is output from {key}\")\n",
    "        print(\"_______\")\n",
    "        print(value)\n",
    "        print(\"\\n\")"
   ]
  },
  {
   "cell_type": "code",
   "execution_count": 36,
   "id": "c44078b6",
   "metadata": {},
   "outputs": [
    {
     "ename": "SyntaxError",
     "evalue": "invalid syntax (3199407414.py, line 1)",
     "output_type": "error",
     "traceback": [
      "  \u001b[36mCell\u001b[39m\u001b[36m \u001b[39m\u001b[32mIn[36]\u001b[39m\u001b[32m, line 1\u001b[39m\n\u001b[31m    \u001b[39m\u001b[31mPremier Inn London Tower Bridge\u001b[39m\n            ^\n\u001b[31mSyntaxError\u001b[39m\u001b[31m:\u001b[39m invalid syntax\n"
     ]
    }
   ],
   "source": [
    "\n",
    "Premier Inn London Tower Bridge"
   ]
  }
 ],
 "metadata": {
  "kernelspec": {
   "display_name": "myvenv",
   "language": "python",
   "name": "python3"
  },
  "language_info": {
   "codemirror_mode": {
    "name": "ipython",
    "version": 3
   },
   "file_extension": ".py",
   "mimetype": "text/x-python",
   "name": "python",
   "nbconvert_exporter": "python",
   "pygments_lexer": "ipython3",
   "version": "3.12.7"
  }
 },
 "nbformat": 4,
 "nbformat_minor": 5
}
