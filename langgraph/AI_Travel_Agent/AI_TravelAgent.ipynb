{
 "cells": [
  {
   "cell_type": "markdown",
   "id": "a6fb8674",
   "metadata": {},
   "source": [
    "#### AI Travel Agent & Expense Planner\n",
    "##### Purpose: Trip planning for any city worldwide with Realtime data."
   ]
  },
  {
   "cell_type": "code",
   "execution_count": 1,
   "id": "1dbcff06",
   "metadata": {},
   "outputs": [],
   "source": [
    "\n",
    "# LangChain Core Components\n",
    "from langchain_core.messages import BaseMessage, HumanMessage, SystemMessage\n",
    "from langchain_core.prompts import PromptTemplate, ChatPromptTemplate\n",
    "from langchain_core.output_parsers import PydanticOutputParser\n",
    "from langchain.chains import LLMChain\n",
    "\n",
    "# Pydantic Data Modeling & Validation\n",
    "import operator\n",
    "from typing import Annotated, TypedDict, Sequence, List\n",
    "from pydantic import BaseModel, Field\n",
    "\n",
    "# LangGraph - State Management & Flow Control\n",
    "from langgraph.graph import START, END, StateGraph\n",
    "from langgraph.prebuilt import tools_condition, ToolNode\n",
    "\n",
    "# LangChain Community Tools for real-time web scrapping\n",
    "from langchain_community.tools import tool\n",
    "from langchain_community.tools import DuckDuckGoSearchResults\n",
    "from langchain_community.tools.tavily_search import TavilySearchResults\n",
    "from langchain_community.utilities.alpha_vantage import AlphaVantageAPIWrapper  \n",
    "\n",
    "# LLM \n",
    "from langchain_openai import ChatOpenAI\n",
    "from langchain_groq import ChatGroq\n"
   ]
  },
  {
   "cell_type": "markdown",
   "id": "901a20f5",
   "metadata": {},
   "source": [
    "##### Custom Typed State for LangGraph Memory"
   ]
  },
  {
   "cell_type": "code",
   "execution_count": 2,
   "id": "9271d57f",
   "metadata": {},
   "outputs": [],
   "source": [
    "class MessageState(TypedDict):\n",
    "    messages:Annotated[Sequence[BaseMessage], operator.add]\n",
    "    step:int\n",
    "    origin: str\n",
    "    destination: str\n",
    "    days: float\n",
    "    budget: float"
   ]
  },
  {
   "cell_type": "markdown",
   "id": "9eea3434",
   "metadata": {},
   "source": [
    "##### Structured PydanticOutput Schema for Travel Information"
   ]
  },
  {
   "cell_type": "code",
   "execution_count": 3,
   "id": "2a4c56dd",
   "metadata": {},
   "outputs": [],
   "source": [
    "\n",
    "\n",
    "class Format(BaseModel):\n",
    "    attractions:List[str]=Field(description=\"list of top 5 attractions at given location\")\n",
    "    restaurants:List[str]=Field(description=\"list of top 5 restaurants at given location\")\n",
    "    activities:List[str]=Field(description=\"list of top 5 activities to do, at given location\")\n",
    "    transportation:List[str]=Field(description=\"list of ways to transport from place of origin to given location\")\n",
    "    \n",
    "output_parser=PydanticOutputParser(pydantic_object=Format)"
   ]
  },
  {
   "cell_type": "code",
   "execution_count": 3,
   "id": "c5c22ffd",
   "metadata": {},
   "outputs": [],
   "source": [
    "\n",
    "llm=ChatGroq(model=\"llama-3.1-8b-instant\")"
   ]
  },
  {
   "cell_type": "markdown",
   "id": "3fbf9fc9",
   "metadata": {},
   "source": [
    "##### Defining custom Tools "
   ]
  },
  {
   "cell_type": "code",
   "execution_count": 5,
   "id": "e6650d3e",
   "metadata": {},
   "outputs": [],
   "source": [
    "@tool\n",
    "def get_attarction_activites(Location:str,origin:str)->str:\n",
    "\n",
    "    \"\"\"This tool provides list of top 5 attractions, list of top 5 resturants with multi-cusines, list of top 5 activities to do and ways of transporation in given location \n",
    "    \n",
    "    Args:\n",
    "        Location (str): Trip Destination location\n",
    "        origin (str): Place of origin for trip\n",
    "        \n",
    "\n",
    "    Returns:\n",
    "        str: Deatils of attrcation of given location\n",
    "        \n",
    "        \"\"\"\n",
    "    \n",
    "    \n",
    "    prompt=PromptTemplate.from_template(\"\"\"You are a helpful assistant that provides the following details about a destination:\n",
    "                                            - Top 5 tourist attractions\n",
    "                                            - Top 5 multi-cuisine restaurants\n",
    "                                            - Top 5 activities to do\n",
    "                                            - Ways of transportation from the place of origin to the destination\n",
    "\n",
    "                                            Place of origin: {origin}\n",
    "                                            Destination: {Location}\n",
    "\n",
    "                                            Respond ONLY in the following JSON format:\n",
    "                                            {format_instructions}\n",
    "                                            \"\"\")\n",
    "    \n",
    "    chain= prompt| llm | output_parser\n",
    "    res= chain.invoke({\"Location\":Location,\"origin\":origin,\"format_instructions\":output_parser.get_format_instructions()})\n",
    "    print(\"res\",res)\n",
    "\n",
    "    \n",
    "    \n",
    "    return res"
   ]
  },
  {
   "cell_type": "code",
   "execution_count": 6,
   "id": "fa0d1520",
   "metadata": {},
   "outputs": [
    {
     "name": "stdout",
     "output_type": "stream",
     "text": [
      "res attractions=['The British Museum', 'The National Gallery', 'The Tower of London', 'Buckingham Palace', 'The London Eye'] restaurants=['Dishoom', 'Padella', 'Honey & Co', 'The Delaunay', 'Brick Lane Curry House'] activities=['Take a West End musical', 'Explore the Camden Market', 'Visit a Premier League football match', 'Take a Thames River cruise', 'Walk in Hyde Park'] transportation=['Flights from major Indian cities to London Heathrow Airport', 'Flights from Mumbai to London Gatwick Airport', 'Trains from Paris to London with changes at Lille or Brussels', 'Bus journeys from European cities with companies like FlixBus', 'Cruise ships from Southampton to various destinations in Europe']\n"
     ]
    },
    {
     "data": {
      "text/plain": [
       "Format(attractions=['The British Museum', 'The National Gallery', 'The Tower of London', 'Buckingham Palace', 'The London Eye'], restaurants=['Dishoom', 'Padella', 'Honey & Co', 'The Delaunay', 'Brick Lane Curry House'], activities=['Take a West End musical', 'Explore the Camden Market', 'Visit a Premier League football match', 'Take a Thames River cruise', 'Walk in Hyde Park'], transportation=['Flights from major Indian cities to London Heathrow Airport', 'Flights from Mumbai to London Gatwick Airport', 'Trains from Paris to London with changes at Lille or Brussels', 'Bus journeys from European cities with companies like FlixBus', 'Cruise ships from Southampton to various destinations in Europe'])"
      ]
     },
     "execution_count": 6,
     "metadata": {},
     "output_type": "execute_result"
    }
   ],
   "source": [
    "get_attarction_activites.invoke({\"Location\":\"london\",\"origin\":\"india\"})\n",
    "\n"
   ]
  },
  {
   "cell_type": "markdown",
   "id": "bd3ddf1a",
   "metadata": {},
   "source": [
    "#### Using `PyOWM` to fetch weather information of given Location"
   ]
  },
  {
   "cell_type": "code",
   "execution_count": 7,
   "id": "b8c9d199",
   "metadata": {},
   "outputs": [
    {
     "name": "stderr",
     "output_type": "stream",
     "text": [
      "c:\\Users\\divya\\Documents\\GitHub\\Agentic\\myvenv\\Lib\\site-packages\\pyowm\\commons\\cityidregistry.py:7: UserWarning: pkg_resources is deprecated as an API. See https://setuptools.pypa.io/en/latest/pkg_resources.html. The pkg_resources package is slated for removal as early as 2025-11-30. Refrain from using this package or pin to Setuptools<81.\n",
      "  from pkg_resources import resource_filename\n"
     ]
    },
    {
     "data": {
      "text/plain": [
       "True"
      ]
     },
     "execution_count": 7,
     "metadata": {},
     "output_type": "execute_result"
    }
   ],
   "source": [
    "import os\n",
    "import pyowm\n",
    "from dotenv import load_dotenv\n",
    "\n",
    "from warnings import filterwarnings\n",
    "filterwarnings(\"ignore\")\n",
    "\n",
    "load_dotenv()"
   ]
  },
  {
   "cell_type": "markdown",
   "id": "3e63654c",
   "metadata": {},
   "source": [
    "##### Used `OpenWeatherAPI` to fetch Real-time current and forecasting weather details of Destination Location"
   ]
  },
  {
   "cell_type": "code",
   "execution_count": 8,
   "id": "bbbf4b72",
   "metadata": {},
   "outputs": [],
   "source": [
    "@tool\n",
    "def get_weather_detail(Location:str)->str:\n",
    "    \n",
    "    \"\"\"This tool provides current and forecasting weather for given location\n",
    "    \n",
    "    Args:\n",
    "        Location (str): Trip Destination location\n",
    "  \n",
    "    \n",
    "    Returns:\n",
    "        str: Deatils of real-time current weather and forecasting of 15hrs ahead for given location\n",
    "        \n",
    "        \"\"\"\n",
    "\n",
    "    owm = pyowm.OWM(os.getenv(\"openweatherkey_one\"))\n",
    "    weather_mgr = owm.weather_manager()\n",
    "\n",
    "\n",
    "    # Current weather\n",
    "    observation = weather_mgr.weather_at_place(Location)\n",
    "    weather_now = observation.weather\n",
    "    current = {\n",
    "        \"temperature_celsius\": weather_now.temperature(\"celsius\")[\"temp\"],\n",
    "        \"humidity\": weather_now.humidity,\n",
    "        \"wind_speed_mps\": weather_now.wind()[\"speed\"],\n",
    "        \"status\": weather_now.detailed_status\n",
    "    }\n",
    "\n",
    "    # Forecast (next 5 x 3h intervals)\n",
    "    forecast = weather_mgr.forecast_at_place(Location, '3h')\n",
    "    forecast_data = []\n",
    "    for weather in forecast.forecast.weathers[:5]:  # limit to first 5 intervals\n",
    "        entry = {\n",
    "            \"time\": str(weather.reference_time('iso')),\n",
    "            \"temperature_celsius\": weather.temperature(\"celsius\")[\"temp\"],\n",
    "            \"humidity\": weather.humidity,\n",
    "            \"wind_speed_mps\": weather.wind()[\"speed\"],\n",
    "            \"status\": weather.detailed_status\n",
    "        }\n",
    "        forecast_data.append(entry)\n",
    "\n",
    "    result = {\n",
    "        \"location\": Location,\n",
    "        \"current_weather\": current,\n",
    "        \"forecast_next_15h\": forecast_data\n",
    "    }\n",
    "    \n",
    "\n",
    "    \n",
    "    return str(result)\n",
    "        \n",
    "    "
   ]
  },
  {
   "cell_type": "code",
   "execution_count": 9,
   "id": "9c736f3b",
   "metadata": {},
   "outputs": [
    {
     "data": {
      "text/plain": [
       "\"{'location': 'London', 'current_weather': {'temperature_celsius': 19.82, 'humidity': 73, 'wind_speed_mps': 2.57, 'status': 'few clouds'}, 'forecast_next_15h': [{'time': '2025-06-19 00:00:00+00:00', 'temperature_celsius': 19.77, 'humidity': 73, 'wind_speed_mps': 0.26, 'status': 'few clouds'}, {'time': '2025-06-19 03:00:00+00:00', 'temperature_celsius': 19.0, 'humidity': 72, 'wind_speed_mps': 0.14, 'status': 'few clouds'}, {'time': '2025-06-19 06:00:00+00:00', 'temperature_celsius': 19.54, 'humidity': 67, 'wind_speed_mps': 0.2, 'status': 'clear sky'}, {'time': '2025-06-19 09:00:00+00:00', 'temperature_celsius': 25.65, 'humidity': 46, 'wind_speed_mps': 0.71, 'status': 'clear sky'}, {'time': '2025-06-19 12:00:00+00:00', 'temperature_celsius': 28.94, 'humidity': 33, 'wind_speed_mps': 1.04, 'status': 'clear sky'}]}\""
      ]
     },
     "execution_count": 9,
     "metadata": {},
     "output_type": "execute_result"
    }
   ],
   "source": [
    "get_weather_detail.invoke({\"Location\":\"London\"})"
   ]
  },
  {
   "cell_type": "markdown",
   "id": "ba47f34e",
   "metadata": {},
   "source": [
    "#### Used `TavilySearchAPI` for web scrapping of real-time Hotel and pricing Data"
   ]
  },
  {
   "cell_type": "code",
   "execution_count": 10,
   "id": "a17930c8",
   "metadata": {},
   "outputs": [],
   "source": [
    "search_llm=ChatGroq(model=\"llama-3.1-8b-instant\")\n",
    "Tavily_search=TavilySearchResults()"
   ]
  },
  {
   "cell_type": "code",
   "execution_count": 11,
   "id": "a7c684fd",
   "metadata": {},
   "outputs": [],
   "source": [
    "@tool\n",
    "def search_hotels(Location:str,budget:float,days:float)->str:\n",
    "    \n",
    "    \"\"\"This tool searches for hotels and its prices in given location\n",
    "    \n",
    "    Args:\n",
    "        Location (str): Trip Destination location\n",
    "        budget  (foat): Total budget of trip\n",
    "        days   (float): Duration of trip\n",
    "\n",
    "    Returns:\n",
    "        str: Deatils of real-time Hotels along with price-per night within budget for given location\n",
    "    \"\"\"\n",
    "\n",
    "\n",
    "    search_llm=ChatGroq(model=\"llama-3.1-8b-instant\")\n",
    "    price_day=budget/(days+5)\n",
    "    search_llm=ChatGroq(model=\"llama-3.1-8b-instant\")\n",
    "    hotels=search_llm.invoke(f\"No description required, Just give list of Hotel names in {Location} with price per day {price_day}\")\n",
    "    print(hotels.content)\n",
    "    Hotel_name=input(\"Enter a Hotel name that you would like to check cost estimation\")\n",
    "    \n",
    "    return Hotel_name   \n"
   ]
  },
  {
   "cell_type": "code",
   "execution_count": 12,
   "id": "64335ffc",
   "metadata": {},
   "outputs": [
    {
     "name": "stdout",
     "output_type": "stream",
     "text": [
      "Please note that prices may vary based on the time of year, availability, and other factors. Here's a list of hotels in London with prices around £285 per day (approximately $365 USD):\n",
      "\n",
      "1. **Premier Inn London City (Tower Hill)** - £249 - £349 per night\n",
      "2. **Ibis London Earl's Court** - £239 - £329 per night\n",
      "3. **Holiday Inn London Kensington Forum** - £269 - £369 per night\n",
      "4. **Novotel London City East** - £249 - £349 per night\n",
      "5. **Park Plaza London Riverbank** - £259 - £359 per night\n",
      "6. **Premier Inn London Euston** - £249 - £349 per night\n",
      "7. **Hilton London Kensington** - £289 - £399 per night\n",
      "8. **Ibis London Greenwich** - £239 - £329 per night\n",
      "9. **Travelodge London Central Tower Bridge** - £239 - £329 per night\n",
      "10. **Marriott London County Hall** - £299 - £409 per night\n",
      "11. **DoubleTree by Hilton London - Westminster** - £289 - £399 per night\n",
      "12. **Novotel London City South** - £249 - £349 per night\n",
      "13. **Crowne Plaza London - The City** - £299 - £409 per night\n",
      "14. **Jurys Inn London Kensington** - £259 - £359 per night\n",
      "15. **Mercure London Kensington** - £269 - £369 per night\n",
      "\n",
      "Please note that prices may be higher during peak season (June to August) and lower during off-peak season. It's always a good idea to check the hotels' official websites or a hotel booking website like Booking.com, Expedia, or Hotels.com for the most up-to-date prices.\n"
     ]
    },
    {
     "data": {
      "text/plain": [
       "'Jurys Inn London Kensington'"
      ]
     },
     "execution_count": 12,
     "metadata": {},
     "output_type": "execute_result"
    }
   ],
   "source": [
    "search_hotels({\"Location\":\"London\",\"budget\":2850,\"days\":5})"
   ]
  },
  {
   "cell_type": "code",
   "execution_count": 13,
   "id": "e28619c7",
   "metadata": {},
   "outputs": [],
   "source": [
    "@tool\n",
    "def get_hotel_price(Hotel_name:str,Location:str,budget:float,days:float)->str:\n",
    "\n",
    "        \"\"\" This tool provides price per night for a given Hotel (as per budget) \n",
    "            and makes remaining budget estimation\n",
    "\n",
    "        Args:\n",
    "                Hotel_name (str): User-selected Hotel name\n",
    "                Location   (str): Trip Destination location\n",
    "                budget    (foat): Total budget of trip\n",
    "                days     (float): Duration of trip\n",
    "\n",
    "        Returns:\n",
    "                str: Gives least price per night for user selected Hotel and \n",
    "                     site details along with budget estimation\n",
    "        \"\"\"\n",
    "        \n",
    "        res=Tavily_search.invoke(f\"Provide price per night of {Hotel_name} in {Location}\")\n",
    "        print(res)\n",
    "        \n",
    "         # Convert list of dicts to plain text (context)\n",
    "        context_text = \"\\n\\n\".join(\n",
    "                f\"Title: {r['title']}\\nURL: {r['url']}\\nContent: {r['content']}\" for r in res \n",
    "        )\n",
    "\n",
    "        budget_hotel = budget / (days + 5)\n",
    "\n",
    "        print(context_text)\n",
    "\n",
    "        \n",
    "        prompt = f\"\"\"\n",
    "        You are provided with hotel search results.\n",
    "\n",
    "        Context:\n",
    "        {context_text}\n",
    "\n",
    "        Take lowest per-night price of the hotel based on the above content.\n",
    "        Compare it with the allowed per-night budget: ${budget_hotel:.2f}.\n",
    "\n",
    "        Then calculate total cost for {days} nights.\n",
    "        Also calculate how much budget will remain after booking from total budget: ${budget:.2f}\n",
    "\n",
    "        Return the answer in 2-3 lines, human-readable format.\n",
    "        \"\"\"\n",
    "\n",
    "        result = search_llm.invoke(prompt)\n",
    "\n",
    "        return result\n"
   ]
  },
  {
   "cell_type": "markdown",
   "id": "b3b7258c",
   "metadata": {},
   "source": [
    "#### Used `AlphaVantageAPIWrapper` for Real-time currency conversion to Destination "
   ]
  },
  {
   "cell_type": "code",
   "execution_count": 14,
   "id": "0d532170",
   "metadata": {},
   "outputs": [],
   "source": [
    "def travel_Planning(state:MessageState):\n",
    "\n",
    "    # Taking user-input regarding trip\n",
    "\n",
    "    origin=input(\"Enter the place of origin for the journey\").lower()\n",
    "    location=input(\"Enter the city name for which you want travel plan and details\").lower()\n",
    "    Days=input(\"Enter no.of days for the trip\")\n",
    "    Days=float(Days)\n",
    "    budget=input(\"Enter max budget in origin country currecy, for entire trip\")\n",
    "    budget=float(budget)\n",
    "\n",
    "    print(\"Please wait...., while our AI travel agent is planning Iternary according to your details.....\")\n",
    "   \n",
    "    state[\"origin\"] = origin\n",
    "    state[\"destination\"] = location\n",
    "    state[\"days\"] = Days\n",
    "    state[\"budget\"] = budget\n",
    "\n",
    "\n",
    "    SYSTEM_PROMPT = SystemMessage(\n",
    "    content=f\"\"\"You are a helpful assistant tasked with currency conversion from Origin: {origin} to Destination: {location}, just provide currency codes nothing else\n",
    "    Return each code on a separate line like this:\\n\\nINR\\nGBP \"\"\")\n",
    "\n",
    "    res=search_llm.invoke([SYSTEM_PROMPT]+ [\"Return only the currency codes (e.g., INR, GBP), each on a separate line, of Origin and Destination\"])\n",
    "    print(res)\n",
    "    origin_currency, destination_currency = res.content.split('\\n')\n",
    "\n",
    "    \n",
    "\n",
    "\n",
    "    \"\"\" Currency conversion for planning budget according to Destination\n",
    "    Used AlphaVantageAPIWrapper to get real-time currency exchange rates.\"\"\"\n",
    "\n",
    "    os.environ[\"ALPHAVANTAGE_API_KEY\"] = os.getenv(\"ALPHAVANTAGE_API_KEY\")\n",
    "    alpha_vantage = AlphaVantageAPIWrapper()\n",
    "    er=alpha_vantage._get_exchange_rate(origin_currency, destination_currency)\n",
    "    print(er)\n",
    "    er=alpha_vantage._get_exchange_rate(origin_currency, destination_currency)['Realtime Currency Exchange Rate']['5. Exchange Rate']\n",
    "    er=float(er)\n",
    "    state[\"budget\"]=float(budget * er)\n",
    "    state[\"step\"]=1\n",
    "\n",
    "    return state"
   ]
  },
  {
   "cell_type": "code",
   "execution_count": 15,
   "id": "19440363",
   "metadata": {},
   "outputs": [],
   "source": [
    "myTools=[get_attarction_activites,get_weather_detail,search_hotels,get_hotel_price]"
   ]
  },
  {
   "cell_type": "code",
   "execution_count": 16,
   "id": "490e68d8",
   "metadata": {},
   "outputs": [],
   "source": [
    "\n",
    "agent=ChatOpenAI(model=\"o4-mini\")\n",
    "React_agent=agent.bind_tools(myTools)"
   ]
  },
  {
   "cell_type": "code",
   "execution_count": 17,
   "id": "3ccd98c9",
   "metadata": {},
   "outputs": [],
   "source": [
    "def agent_planning(state:MessageState):\n",
    "    \n",
    "    current_step=state[\"step\"]\n",
    "    origin = state[\"origin\"]\n",
    "    destination = state[\"destination\"]\n",
    "    days = state[\"days\"]\n",
    "    budget = state[\"budget\"]\n",
    "    step_name={\n",
    "        0:\"Currency conversion\",\n",
    "        1:\"Search for Attractions and Activities\",\n",
    "        2:\"Search for weather and forecasting\",\n",
    "        3:\"Search for Hotels in given location\",\n",
    "        4:\"Search price of given Hotel received from search_hotels\",\n",
    "        5:\"END the process\"\n",
    "    }[current_step]\n",
    "\n",
    "    if len(state[\"messages\"])==0:\n",
    "        context=HumanMessage(content=\"Start planning.\")\n",
    "    else:\n",
    "        context=state[\"messages\"][-1]\n",
    "\n",
    "    template = \"\"\"You are a helpful Travel planning assistant with binded tools, planning trip from {origin} to given Destination {destination}, for {days} days with total budget of {budget}.\n",
    "                    Only take actions based on current step: \"{current_step}\".\n",
    "                    Now perform step {current_step}: {step_name}.\n",
    "                    Context: {context}\"\"\"\n",
    "\n",
    "    prompt = PromptTemplate.from_template(template)\n",
    "\n",
    "    \n",
    "    chain = prompt | React_agent\n",
    "\n",
    "    inputs = {\n",
    "        \"origin\": origin,\n",
    "        \"destination\": destination,\n",
    "        \"days\": days,\n",
    "        \"budget\": budget,\n",
    "        \"current_step\": current_step,\n",
    "        \"step_name\": step_name,\n",
    "        \"context\": context,\n",
    "    }\n",
    "    res = chain.invoke(inputs)\n",
    "\n",
    "    if res.tool_calls:\n",
    "        state[\"step\"]+=1\n",
    "        \n",
    "    return {\"messages\":[res],\"step\":state[\"step\"]}"
   ]
  },
  {
   "cell_type": "markdown",
   "id": "bedb033e",
   "metadata": {},
   "source": [
    "#### Setting up Agent workflow via langgraph"
   ]
  },
  {
   "cell_type": "code",
   "execution_count": 18,
   "id": "566df8a7",
   "metadata": {},
   "outputs": [],
   "source": [
    "# workflow set up with stateGraph\n",
    "\n",
    "workflow1=StateGraph(MessageState)\n",
    "workflow1.add_node(\"start_planning\",travel_Planning)\n",
    "workflow1.add_node(\"Agent_Planning\",agent_planning)\n",
    "\n",
    "# adding tools as nodes\n",
    "myTools=[get_attarction_activites,get_weather_detail,search_hotels,get_hotel_price]\n",
    "tools=ToolNode(myTools)\n",
    "workflow1.add_node(\"tools\",tools)\n",
    "\n",
    "workflow1.add_edge(START,\"start_planning\")\n",
    "workflow1.add_edge(\"start_planning\",\"Agent_Planning\")\n",
    "\n",
    "# Conditional edge for routing between tools\n",
    "workflow1.add_conditional_edges(\"Agent_Planning\",tools_condition)\n",
    "workflow1.add_edge(\"tools\",\"Agent_Planning\")\n",
    "\n",
    "react_agent=workflow1.compile()"
   ]
  },
  {
   "cell_type": "code",
   "execution_count": 19,
   "id": "d235164c",
   "metadata": {},
   "outputs": [
    {
     "data": {
      "image/png": "[encoded data removed]",
      "text/plain": [
       "<IPython.core.display.Image object>"
      ]
     },
     "metadata": {},
     "output_type": "display_data"
    }
   ],
   "source": [
    "from IPython.display import Image, display\n",
    "display(Image(react_agent.get_graph().draw_mermaid_png()))"
   ]
  },
  {
   "cell_type": "code",
   "execution_count": null,
   "id": "0f28eef9",
   "metadata": {},
   "outputs": [],
   "source": [
    "for output in react_agent.stream({\"messages\":[]}):\n",
    "    for key,value in output.items():\n",
    "        print(f\"\\n\\t Below is the output from {key}\")\n",
    "        print(\"---------------------------------------------------------------------------------------------\\n\")\n",
    "        print(value)\n",
    "        print(\"\\n\\n\\n\")"
   ]
  }
 ],
 "metadata": {
  "kernelspec": {
   "display_name": "myvenv",
   "language": "python",
   "name": "python3"
  },
  "language_info": {
   "codemirror_mode": {
    "name": "ipython",
    "version": 3
   },
   "file_extension": ".py",
   "mimetype": "text/x-python",
   "name": "python",
   "nbconvert_exporter": "python",
   "pygments_lexer": "ipython3",
   "version": "3.12.7"
  }
 },
 "nbformat": 4,
 "nbformat_minor": 5
}
