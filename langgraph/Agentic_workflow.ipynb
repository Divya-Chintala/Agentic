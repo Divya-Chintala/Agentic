{
 "cells": [
  {
   "cell_type": "code",
   "execution_count": 1,
   "id": "3cc90fcc",
   "metadata": {},
   "outputs": [],
   "source": [
    "from dotenv import load_dotenv\n",
    "import os\n",
    "\n",
    "from langgraph.graph import MessagesState"
   ]
  },
  {
   "cell_type": "markdown",
   "id": "b75170b2",
   "metadata": {},
   "source": [
    "#### Defining Custom Tools"
   ]
  },
  {
   "cell_type": "code",
   "execution_count": 2,
   "id": "cf572f56",
   "metadata": {},
   "outputs": [],
   "source": [
    "from langchain_community.tools import tool,Tool\n",
    "\n",
    "@tool\n",
    "def multiply(a:int,b:int)->int:\n",
    "    \"\"\" this tool is used to multiply two number\"\"\"\n",
    "    return a*b"
   ]
  },
  {
   "cell_type": "code",
   "execution_count": 3,
   "id": "2d3dce79",
   "metadata": {},
   "outputs": [],
   "source": [
    "@tool\n",
    "def add(a:int,b:int)->int:\n",
    "    \"\"\"This tool is used to add two numbers\"\"\"\n",
    "    return a+b"
   ]
  },
  {
   "cell_type": "code",
   "execution_count": 4,
   "id": "059dd754",
   "metadata": {},
   "outputs": [],
   "source": [
    "@tool\n",
    "def divide(a:int,b:int)->float:\n",
    "    \"\"\"This tool is used to calculate division of two numbers\"\"\"\n",
    "    return a/b"
   ]
  },
  {
   "cell_type": "code",
   "execution_count": 5,
   "id": "d021a5b6",
   "metadata": {},
   "outputs": [
    {
     "data": {
      "text/plain": [
       "\"snippet: President Trump and Elon Musk both seem to be moving on after their ugly public feud on Thursday that seemed to tear up their alliance. Trump said Friday he did not want to talk with Musk on the ph…, title: Live updates: Musk, Trump change subject day after nasty feud, link: https://thehill.com/homenews/administration/trump-the-next-100-days/5336541-live-updates-musk-trump-feud/, snippet: Elon Musk wished President Trump well in a post on X late Friday, as a public blowup between the president and the world's richest man showed some signs of cooling off.. When asked about Musk ..., title: Trump-Musk feud simmers, DOJ charges Abrego Garcia, more updates - CBS News, link: https://www.cbsnews.com/live-updates/trump-elon-musk-executive-orders/, snippet: A few months before the war of words between Musk and Trump erupted, the two seemed like an inseparable political force. Musk had spent nearly $200m to elect Trump to a second term in 2024., title: Trump-Musk feud escalates: What happened? And what comes next?, link: https://www.aljazeera.com/news/2025/6/6/trump-musk-feud-escalates-what-happened-and-what-comes-next, snippet: Elon Musk joins President Donald Trump for the signing of an executive order in the Oval Office on Feb. 11. ... called for an investigation Thursday into Musk on a variety of issues and the ..., title: Trump and Musk feud explodes online and turns personal, link: https://www.nbcnews.com/politics/white-house/trump-says-disappointed-elon-musks-attacks-gop-spending-bill-rcna211226\""
      ]
     },
     "execution_count": 5,
     "metadata": {},
     "output_type": "execute_result"
    }
   ],
   "source": [
    "from langchain_community.tools import DuckDuckGoSearchResults\n",
    "\n",
    "web_tool=DuckDuckGoSearchResults()\n",
    "\n",
    "web_tool.invoke(\"whats current issue between Trump and Elon Musk?\")"
   ]
  },
  {
   "cell_type": "markdown",
   "id": "8e1c9ddc",
   "metadata": {},
   "source": [
    "#### Custom tool to fetch current stock prices"
   ]
  },
  {
   "cell_type": "code",
   "execution_count": 35,
   "id": "b709875a",
   "metadata": {},
   "outputs": [],
   "source": [
    "import yfinance as yf\n",
    "@tool\n",
    "def get_stock_price(ticker:str)->str:\n",
    "    \"\"\"\n",
    "    Fetches the previous closing price of a given stock ticker from Yahoo Finance.\n",
    "\n",
    "    Args:\n",
    "        ticker (str): The stock ticker symbol (e.g., 'AAPL', 'TSLA', 'NIFTY.BO').\n",
    "\n",
    "    Returns:\n",
    "        str: A message with the stock's previous closing price.\n",
    "    \"\"\"\n",
    "    try:\n",
    "        stock = yf.Ticker(ticker)\n",
    "        price = stock.info.get('previousClose')\n",
    "        if price is None:\n",
    "            return f\"Could not fetch price for ticker '{ticker}'.\"\n",
    "        return f\"The last closing price of {ticker.upper()} was ${price:.2f}.\"\n",
    "    except Exception as e:\n",
    "        return f\"An error occurred while fetching stock data: {str(e)}\"\n",
    "     \n",
    "    "
   ]
  },
  {
   "cell_type": "code",
   "execution_count": 36,
   "id": "a8260ac7",
   "metadata": {},
   "outputs": [
    {
     "name": "stderr",
     "output_type": "stream",
     "text": [
      "HTTP Error 401: \n"
     ]
    },
    {
     "data": {
      "text/plain": [
       "\"Could not fetch price for ticker 'TSLA'.\""
      ]
     },
     "execution_count": 36,
     "metadata": {},
     "output_type": "execute_result"
    }
   ],
   "source": [
    "get_stock_price.invoke(\"TSLA\")"
   ]
  },
  {
   "cell_type": "code",
   "execution_count": 37,
   "id": "9f650da9",
   "metadata": {},
   "outputs": [
    {
     "data": {
      "text/plain": [
       "'The last closing price of AAPL was $198.42.'"
      ]
     },
     "execution_count": 37,
     "metadata": {},
     "output_type": "execute_result"
    }
   ],
   "source": [
    "get_stock_price.invoke(\"AAPL\")"
   ]
  },
  {
   "cell_type": "markdown",
   "id": "b71e94f4",
   "metadata": {},
   "source": [
    "### Setting up ReAct Agent"
   ]
  },
  {
   "cell_type": "code",
   "execution_count": 9,
   "id": "c117319e",
   "metadata": {},
   "outputs": [],
   "source": [
    "from langchain_groq import ChatGroq\n",
    "model = ChatGroq(\n",
    "    model_name=\"deepseek-r1-distill-llama-70b\",\n",
    "    temperature=0\n",
    ")"
   ]
  },
  {
   "cell_type": "code",
   "execution_count": 10,
   "id": "1a2997ba",
   "metadata": {},
   "outputs": [],
   "source": [
    "from langchain_core.messages import SystemMessage"
   ]
  },
  {
   "cell_type": "code",
   "execution_count": 11,
   "id": "495d746d",
   "metadata": {},
   "outputs": [
    {
     "data": {
      "text/plain": [
       "[SystemMessage(content='You are a helpful assistant tasked with using web search and performing arithmetic on a set of inputs.', additional_kwargs={}, response_metadata={}),\n",
       " 'tell me what is 2+2']"
      ]
     },
     "execution_count": 11,
     "metadata": {},
     "output_type": "execute_result"
    }
   ],
   "source": [
    "SYSTEM_PROMPT = SystemMessage(\n",
    "    content=\"You are a helpful assistant tasked with using web search and performing arithmetic on a set of inputs.\"\n",
    ")\n",
    "\n",
    "user_query=[\"tell me what is 2+2\"]\n",
    "[SYSTEM_PROMPT]+user_query"
   ]
  },
  {
   "cell_type": "code",
   "execution_count": 12,
   "id": "afb977cf",
   "metadata": {},
   "outputs": [],
   "source": [
    "myTool=[web_tool,multiply,add,divide,get_stock_price]\n",
    "ReAct_Agent=model.bind_tools(myTool)"
   ]
  },
  {
   "cell_type": "code",
   "execution_count": 13,
   "id": "e20a9434",
   "metadata": {},
   "outputs": [],
   "source": [
    "def function1(state:MessagesState):\n",
    "    user_query=state[\"messages\"]\n",
    "    query=[SYSTEM_PROMPT]+user_query\n",
    "    result=ReAct_Agent.invoke(query)\n",
    "    return {\"messages\":[result]}"
   ]
  },
  {
   "cell_type": "markdown",
   "id": "79cb8cca",
   "metadata": {},
   "source": [
    "#### Agent Workflow"
   ]
  },
  {
   "cell_type": "code",
   "execution_count": 14,
   "id": "9256f5ec",
   "metadata": {},
   "outputs": [],
   "source": [
    "from langgraph.graph import StateGraph\n",
    "\n",
    "workflow1=StateGraph(MessagesState)"
   ]
  },
  {
   "cell_type": "code",
   "execution_count": 15,
   "id": "20c5a5bb",
   "metadata": {},
   "outputs": [
    {
     "data": {
      "text/plain": [
       "<langgraph.graph.state.StateGraph at 0x24e103d2b70>"
      ]
     },
     "execution_count": 15,
     "metadata": {},
     "output_type": "execute_result"
    }
   ],
   "source": [
    "workflow1.add_node(\"ReAct_agent\",function1)"
   ]
  },
  {
   "cell_type": "code",
   "execution_count": 16,
   "id": "933b4127",
   "metadata": {},
   "outputs": [
    {
     "data": {
      "text/plain": [
       "<langgraph.graph.state.StateGraph at 0x24e103d2b70>"
      ]
     },
     "execution_count": 16,
     "metadata": {},
     "output_type": "execute_result"
    }
   ],
   "source": [
    "from langgraph.graph import START,END\n",
    "from langgraph.prebuilt import tools_condition\n",
    "workflow1.add_edge(START,\"ReAct_agent\")"
   ]
  },
  {
   "cell_type": "code",
   "execution_count": 17,
   "id": "a7672d73",
   "metadata": {},
   "outputs": [
    {
     "data": {
      "text/plain": [
       "<langgraph.graph.state.StateGraph at 0x24e103d2b70>"
      ]
     },
     "execution_count": 17,
     "metadata": {},
     "output_type": "execute_result"
    }
   ],
   "source": [
    "from langgraph.prebuilt import ToolNode\n",
    "workflow1.add_node(\"tools\",ToolNode(myTool))"
   ]
  },
  {
   "cell_type": "code",
   "execution_count": 18,
   "id": "c84f1da8",
   "metadata": {},
   "outputs": [
    {
     "data": {
      "text/plain": [
       "<langgraph.graph.state.StateGraph at 0x24e103d2b70>"
      ]
     },
     "execution_count": 18,
     "metadata": {},
     "output_type": "execute_result"
    }
   ],
   "source": [
    "\n",
    "workflow1.add_conditional_edges(\"ReAct_agent\",tools_condition)\n",
    "workflow1.add_edge(\"tools\",\"ReAct_agent\")"
   ]
  },
  {
   "cell_type": "code",
   "execution_count": 19,
   "id": "607ed022",
   "metadata": {},
   "outputs": [],
   "source": [
    "react_graph=workflow1.compile()"
   ]
  },
  {
   "cell_type": "code",
   "execution_count": 20,
   "id": "d6b07f00",
   "metadata": {},
   "outputs": [
    {
     "data": {
      "image/png": "[encoded data removed]",
      "text/plain": [
       "<IPython.core.display.Image object>"
      ]
     },
     "metadata": {},
     "output_type": "display_data"
    }
   ],
   "source": [
    "from IPython.display import Image, display\n",
    "display(Image(react_graph.get_graph().draw_mermaid_png()))"
   ]
  },
  {
   "cell_type": "code",
   "execution_count": 21,
   "id": "0ef33917",
   "metadata": {},
   "outputs": [],
   "source": [
    "from langchain_core.messages import HumanMessage, SystemMessage"
   ]
  },
  {
   "cell_type": "code",
   "execution_count": 22,
   "id": "6818852a",
   "metadata": {},
   "outputs": [],
   "source": [
    "response=react_graph.invoke({\"messages\":[HumanMessage(content=\"What is 2 times of narendramodi's age?\")]})"
   ]
  },
  {
   "cell_type": "code",
   "execution_count": 23,
   "id": "a9ab1038",
   "metadata": {},
   "outputs": [
    {
     "data": {
      "text/plain": [
       "{'messages': [HumanMessage(content=\"What is 2 times of narendramodi's age?\", additional_kwargs={}, response_metadata={}, id='f0541958-9491-422e-af84-30c689da97fa'),\n",
       "  AIMessage(content='', additional_kwargs={'tool_calls': [{'id': 'cwexvpm8d', 'function': {'arguments': '{\"query\":\"Narendra Modi age\"}', 'name': 'duckduckgo_results_json'}, 'type': 'function'}]}, response_metadata={'token_usage': {'completion_tokens': 705, 'prompt_tokens': 415, 'total_tokens': 1120, 'completion_time': 2.779170451, 'prompt_time': 0.034181687, 'queue_time': 0.202721641, 'total_time': 2.813352138}, 'model_name': 'deepseek-r1-distill-llama-70b', 'system_fingerprint': 'fp_1bbe7845ec', 'finish_reason': 'tool_calls', 'logprobs': None}, id='run--c9ec6731-1d54-4e15-91c1-b58b5fd70bb4-0', tool_calls=[{'name': 'duckduckgo_results_json', 'args': {'query': 'Narendra Modi age'}, 'id': 'cwexvpm8d', 'type': 'tool_call'}], usage_metadata={'input_tokens': 415, 'output_tokens': 705, 'total_tokens': 1120}),\n",
       "  ToolMessage(content='snippet: Narendra Modi is the 14th prime minister of India. His Hindu nationalist policies and some of his economic reforms have proved controversial to many within and outside India., title: Narendra Modi | Biography, Career, & Facts | Britannica, link: https://www.britannica.com/biography/Narendra-Modi, snippet: List of all Prime Ministers of India till 2025: Narendra Modi is the current and 14th Prime Minister of India who assumed office on 10 June 2024., title: List of all Prime Ministers of India (1947-2025) | India PM List, link: https://www.jagranjosh.com/general-knowledge/list-of-all-prime-ministers-of-india-1473165149-1, snippet: Narendra Modi biography Here are 20 key details about Narendra Modi: Full Name: Narendra Damodardas Modi. Date of Birth: September 17, 1950. Birthplace: Vadnagar, Gujarat, India. Current Position: Prime Minister of India, serving since May 26, 2014. Political Party: Bharatiya Janata Party (BJP). Previous Role: Chief Minister of Gujarat from October 2001 to May 2014. Major Achievements: Known ..., title: Narendra Modi Biography: Age, Net Worth, Wife, Children, Salary, & More, link: https://wikibio.com.ng/narendra-modi-biography/, snippet: Learn about the life and achievements of Narendra Modi, the 14th Prime Minister of India, who was born on September 17, 1950, in Gujarat. Find out his full name, mother, father, wife, education, party, and net worth here., title: Narendra Modi Biography, Age, Full Name, Education, Mother ... - PWOnlyIAS, link: https://pwonlyias.com/narendra-modi/', name='duckduckgo_results_json', id='964d616d-774b-4dec-8a72-f7e47838bd23', tool_call_id='cwexvpm8d', artifact=[{'snippet': 'Narendra Modi is the 14th prime minister of India. His Hindu nationalist policies and some of his economic reforms have proved controversial to many within and outside India.', 'title': 'Narendra Modi | Biography, Career, & Facts | Britannica', 'link': 'https://www.britannica.com/biography/Narendra-Modi'}, {'snippet': 'List of all Prime Ministers of India till 2025: Narendra Modi is the current and 14th Prime Minister of India who assumed office on 10 June 2024.', 'title': 'List of all Prime Ministers of India (1947-2025) | India PM List', 'link': 'https://www.jagranjosh.com/general-knowledge/list-of-all-prime-ministers-of-india-1473165149-1'}, {'snippet': 'Narendra Modi biography Here are 20 key details about Narendra Modi: Full Name: Narendra Damodardas Modi. Date of Birth: September 17, 1950. Birthplace: Vadnagar, Gujarat, India. Current Position: Prime Minister of India, serving since May 26, 2014. Political Party: Bharatiya Janata Party (BJP). Previous Role: Chief Minister of Gujarat from October 2001 to May 2014. Major Achievements: Known ...', 'title': 'Narendra Modi Biography: Age, Net Worth, Wife, Children, Salary, & More', 'link': 'https://wikibio.com.ng/narendra-modi-biography/'}, {'snippet': 'Learn about the life and achievements of Narendra Modi, the 14th Prime Minister of India, who was born on September 17, 1950, in Gujarat. Find out his full name, mother, father, wife, education, party, and net worth here.', 'title': 'Narendra Modi Biography, Age, Full Name, Education, Mother ... - PWOnlyIAS', 'link': 'https://pwonlyias.com/narendra-modi/'}]),\n",
       "  AIMessage(content='', additional_kwargs={'tool_calls': [{'id': 'mbq96d0qw', 'function': {'arguments': '{\"a\":73,\"b\":2}', 'name': 'multiply'}, 'type': 'function'}]}, response_metadata={'token_usage': {'completion_tokens': 263, 'prompt_tokens': 858, 'total_tokens': 1121, 'completion_time': 1.121473382, 'prompt_time': 0.056471288, 'queue_time': 0.201846317, 'total_time': 1.17794467}, 'model_name': 'deepseek-r1-distill-llama-70b', 'system_fingerprint': 'fp_1bbe7845ec', 'finish_reason': 'tool_calls', 'logprobs': None}, id='run--2fe1e055-3bee-463e-a926-72b3a820b9e2-0', tool_calls=[{'name': 'multiply', 'args': {'a': 73, 'b': 2}, 'id': 'mbq96d0qw', 'type': 'tool_call'}], usage_metadata={'input_tokens': 858, 'output_tokens': 263, 'total_tokens': 1121}),\n",
       "  ToolMessage(content='146', name='multiply', id='f374b9d8-6b1b-4bed-8959-22ac0bf7fcd5', tool_call_id='mbq96d0qw'),\n",
       "  AIMessage(content=\"2 times Narendra Modi's age is **146**.\", additional_kwargs={}, response_metadata={'token_usage': {'completion_tokens': 176, 'prompt_tokens': 911, 'total_tokens': 1087, 'completion_time': 0.64, 'prompt_time': 0.071527317, 'queue_time': 0.209925585, 'total_time': 0.711527317}, 'model_name': 'deepseek-r1-distill-llama-70b', 'system_fingerprint': 'fp_1bbe7845ec', 'finish_reason': 'stop', 'logprobs': None}, id='run--58c5cd27-a04d-48c9-9fde-3ff91b3d9b4e-0', usage_metadata={'input_tokens': 911, 'output_tokens': 176, 'total_tokens': 1087})]}"
      ]
     },
     "execution_count": 23,
     "metadata": {},
     "output_type": "execute_result"
    }
   ],
   "source": [
    "response"
   ]
  },
  {
   "cell_type": "code",
   "execution_count": 24,
   "id": "2efb7164",
   "metadata": {},
   "outputs": [
    {
     "name": "stdout",
     "output_type": "stream",
     "text": [
      "================================\u001b[1m Human Message \u001b[0m=================================\n",
      "\n",
      "What is 2 times of narendramodi's age?\n",
      "==================================\u001b[1m Ai Message \u001b[0m==================================\n",
      "Tool Calls:\n",
      "  duckduckgo_results_json (cwexvpm8d)\n",
      " Call ID: cwexvpm8d\n",
      "  Args:\n",
      "    query: Narendra Modi age\n",
      "=================================\u001b[1m Tool Message \u001b[0m=================================\n",
      "Name: duckduckgo_results_json\n",
      "\n",
      "snippet: Narendra Modi is the 14th prime minister of India. His Hindu nationalist policies and some of his economic reforms have proved controversial to many within and outside India., title: Narendra Modi | Biography, Career, & Facts | Britannica, link: https://www.britannica.com/biography/Narendra-Modi, snippet: List of all Prime Ministers of India till 2025: Narendra Modi is the current and 14th Prime Minister of India who assumed office on 10 June 2024., title: List of all Prime Ministers of India (1947-2025) | India PM List, link: https://www.jagranjosh.com/general-knowledge/list-of-all-prime-ministers-of-india-1473165149-1, snippet: Narendra Modi biography Here are 20 key details about Narendra Modi: Full Name: Narendra Damodardas Modi. Date of Birth: September 17, 1950. Birthplace: Vadnagar, Gujarat, India. Current Position: Prime Minister of India, serving since May 26, 2014. Political Party: Bharatiya Janata Party (BJP). Previous Role: Chief Minister of Gujarat from October 2001 to May 2014. Major Achievements: Known ..., title: Narendra Modi Biography: Age, Net Worth, Wife, Children, Salary, & More, link: https://wikibio.com.ng/narendra-modi-biography/, snippet: Learn about the life and achievements of Narendra Modi, the 14th Prime Minister of India, who was born on September 17, 1950, in Gujarat. Find out his full name, mother, father, wife, education, party, and net worth here., title: Narendra Modi Biography, Age, Full Name, Education, Mother ... - PWOnlyIAS, link: https://pwonlyias.com/narendra-modi/\n",
      "==================================\u001b[1m Ai Message \u001b[0m==================================\n",
      "Tool Calls:\n",
      "  multiply (mbq96d0qw)\n",
      " Call ID: mbq96d0qw\n",
      "  Args:\n",
      "    a: 73\n",
      "    b: 2\n",
      "=================================\u001b[1m Tool Message \u001b[0m=================================\n",
      "Name: multiply\n",
      "\n",
      "146\n",
      "==================================\u001b[1m Ai Message \u001b[0m==================================\n",
      "\n",
      "2 times Narendra Modi's age is **146**.\n"
     ]
    }
   ],
   "source": [
    "for m in response['messages']:\n",
    "    m.pretty_print()"
   ]
  },
  {
   "cell_type": "code",
   "execution_count": 38,
   "id": "c874d1fe",
   "metadata": {},
   "outputs": [],
   "source": [
    "response=react_graph.invoke({\"messages\":[HumanMessage(content=\"what is net worth of Elon Musk as of today and make it half?\")]})"
   ]
  },
  {
   "cell_type": "code",
   "execution_count": 39,
   "id": "e00ca5ad",
   "metadata": {},
   "outputs": [
    {
     "name": "stdout",
     "output_type": "stream",
     "text": [
      "================================\u001b[1m Human Message \u001b[0m=================================\n",
      "\n",
      "what is net worth of Elon Musk as of today and make it half?\n",
      "==================================\u001b[1m Ai Message \u001b[0m==================================\n",
      "Tool Calls:\n",
      "  duckduckgo_results_json (2vvhah7tk)\n",
      " Call ID: 2vvhah7tk\n",
      "  Args:\n",
      "    query: Elon Musk net worth today\n",
      "=================================\u001b[1m Tool Message \u001b[0m=================================\n",
      "Name: duckduckgo_results_json\n",
      "\n",
      "snippet: Elon Musk Net worth: $423 billion Source: Tesla, SpaceX ... car maker's shareholders voted in June in favor of Musk keeping performance-based stock options that would be worth nearly $100 billion today in what a Delaware judge had earlier called \"the largest potential compensation opportunity ever observed in public markets,\" when she ..., title: The Top 10 Richest People In The World (June 2025), link: https://www.forbes.com.au/news/billionaires/the-top-10-richest-people-in-the-world-june-2025/, snippet: What Happened: Musk became richer by $2.7 billion on a single day, while Zuckerberg and Bezos added $6.55 billion and $3.36 billion, respectively, to their net worth after the NASDAQ 100 rallied1 ..., title: Elon Musk's Net Worth Soars Nearly $3 Billion, Jeff Bezos, Mark ..., link: https://www.benzinga.com/markets/tech/25/06/45966691/elon-musks-net-worth-soars-nearly-3-billion-jeff-bezos-mark-zuckerberg-and-other-top-10-billionaires-add-over-16-billion-as-sp-500-nasdaq-jump-erasing-fridays-losses, snippet: View net worth over: Max 1 year 1 quarter 1 month 1 week. Net Worth Summary. Cash. Private asset. ... 1971 Elon Musk is born in Pretoria, South Africa. 1981 Buys first computer at age 10., title: Bloomberg Billionaires Index - Elon Musk, link: https://www.bloomberg.com/billionaires/profiles/elon-r-musk/, snippet: Tesla shares fell after Elon Musk's public disagreement with the president. Musk's net worth, though still the world's highest, has fluctuated significantly, peaking at $400 billion in December ..., title: How much is Elon Musk worth? - USA TODAY, link: https://www.usatoday.com/story/money/2025/06/09/elon-musk-networth-trump-doge/84114052007/\n",
      "==================================\u001b[1m Ai Message \u001b[0m==================================\n",
      "Tool Calls:\n",
      "  divide (9gvszvky7)\n",
      " Call ID: 9gvszvky7\n",
      "  Args:\n",
      "    a: 423\n",
      "    b: 2\n",
      "=================================\u001b[1m Tool Message \u001b[0m=================================\n",
      "Name: divide\n",
      "\n",
      "211.5\n",
      "==================================\u001b[1m Ai Message \u001b[0m==================================\n",
      "\n",
      "Half of Elon Musk's net worth of $423 billion is **$211.5 billion**.\n"
     ]
    }
   ],
   "source": [
    "for m in response['messages']:\n",
    "    m.pretty_print()"
   ]
  },
  {
   "cell_type": "code",
   "execution_count": 40,
   "id": "787f0ff4",
   "metadata": {},
   "outputs": [
    {
     "data": {
      "text/plain": [
       "AIMessage(content='', additional_kwargs={'tool_calls': [{'id': '22hp1e5ht', 'function': {'arguments': '{\"ticker\":\"ADANIGREEN.NS\"}', 'name': 'get_stock_price'}, 'type': 'function'}]}, response_metadata={'token_usage': {'completion_tokens': 179, 'prompt_tokens': 397, 'total_tokens': 576, 'completion_time': 0.760110397, 'prompt_time': 0.02564554, 'queue_time': 0.202368969, 'total_time': 0.785755937}, 'model_name': 'deepseek-r1-distill-llama-70b', 'system_fingerprint': 'fp_1bbe7845ec', 'finish_reason': 'tool_calls', 'logprobs': None}, id='run--d9cca5ec-8f18-41ac-b515-fada0cf6a6b8-0', tool_calls=[{'name': 'get_stock_price', 'args': {'ticker': 'ADANIGREEN.NS'}, 'id': '22hp1e5ht', 'type': 'tool_call'}], usage_metadata={'input_tokens': 397, 'output_tokens': 179, 'total_tokens': 576})"
      ]
     },
     "execution_count": 40,
     "metadata": {},
     "output_type": "execute_result"
    }
   ],
   "source": [
    "ReAct_Agent2=model.bind_tools(myTool)\n",
    "\n",
    "SYSTEM_PROMPT2 = SystemMessage(\n",
    "    content=\"You are a helpful assistant tasked with using search, the yahoo finance tool and performing arithmetic on a set of inputs.\"\n",
    ")\n",
    "def function2(state:MessagesState):\n",
    "    \n",
    "    user_question=state[\"messages\"]\n",
    "    \n",
    "    input_question = [SYSTEM_PROMPT2]+user_question\n",
    "    \n",
    "    response = ReAct_Agent2.invoke(input_question)\n",
    "    \n",
    "    return {\n",
    "        \"messages\":[response]\n",
    "    }\n",
    "\n",
    "ReAct_Agent.invoke(\"can you give me a latest stock price of adani greens?\")"
   ]
  },
  {
   "cell_type": "code",
   "execution_count": 28,
   "id": "a80fa9d7",
   "metadata": {},
   "outputs": [
    {
     "data": {
      "text/plain": [
       "[{'name': 'get_stock_price',\n",
       "  'args': {'ticker': 'AAPL'},\n",
       "  'id': 'x7j7r9jzy',\n",
       "  'type': 'tool_call'}]"
      ]
     },
     "execution_count": 28,
     "metadata": {},
     "output_type": "execute_result"
    }
   ],
   "source": [
    "res=ReAct_Agent2.invoke(\"can u tell me current stock price of apple\")\n",
    "res.tool_calls"
   ]
  },
  {
   "cell_type": "code",
   "execution_count": 29,
   "id": "39a1bd01",
   "metadata": {},
   "outputs": [],
   "source": [
    "workflow = StateGraph(MessagesState)\n",
    "workflow.add_node(\"llm_decision_step\", function2)\n",
    "workflow.add_node(\"tools\", ToolNode(myTool))\n",
    "workflow.add_edge(START, \"llm_decision_step\")\n",
    "workflow.add_conditional_edges(\n",
    "    \"llm_decision_step\",\n",
    "    tools_condition,\n",
    ")\n",
    "workflow.add_edge(\"tools\", \"llm_decision_step\")\n",
    "react_graph2 = workflow.compile()"
   ]
  },
  {
   "cell_type": "code",
   "execution_count": 30,
   "id": "c4e68afe",
   "metadata": {},
   "outputs": [
    {
     "name": "stdout",
     "output_type": "stream",
     "text": [
      "================================\u001b[1m Human Message \u001b[0m=================================\n",
      "\n",
      "can you give me 2 times of current stock price of Apple with the latest news of the Apple.\n",
      "==================================\u001b[1m Ai Message \u001b[0m==================================\n",
      "Tool Calls:\n",
      "  get_stock_price (3r8yttrsd)\n",
      " Call ID: 3r8yttrsd\n",
      "  Args:\n",
      "    ticker: AAPL\n",
      "=================================\u001b[1m Tool Message \u001b[0m=================================\n",
      "Name: get_stock_price\n",
      "\n",
      "Could not fetch price for ticker 'AAPL'.\n",
      "==================================\u001b[1m Ai Message \u001b[0m==================================\n",
      "Tool Calls:\n",
      "  get_stock_price (x1q8g39fm)\n",
      " Call ID: x1q8g39fm\n",
      "  Args:\n",
      "    ticker: AAPL\n",
      "=================================\u001b[1m Tool Message \u001b[0m=================================\n",
      "Name: get_stock_price\n",
      "\n",
      "Could not fetch price for ticker 'AAPL'.\n",
      "==================================\u001b[1m Ai Message \u001b[0m==================================\n",
      "\n",
      "I'm sorry, but I can't provide real-time stock prices or the latest news about Apple. However, I can suggest some tools or methods to help you find this information:\n",
      "\n",
      "1. **Stock Price**: You can use financial websites like Yahoo Finance, Google Finance, or Bloomberg to get the current stock price of Apple (AAPL).\n",
      "\n",
      "2. **Latest News**: For the latest news about Apple, you can visit reputable news websites like Reuters, CNBC, or Apple News.\n",
      "\n",
      "If you need help with specific calculations or data, feel free to ask!\n"
     ]
    }
   ],
   "source": [
    "messages = [HumanMessage(content=\"can you give me 2 times of current stock price of Apple with the latest news of the Apple.\")]\n",
    "messages = react_graph2.invoke({\"messages\": messages})\n",
    "for m in messages['messages']:\n",
    "    m.pretty_print()"
   ]
  },
  {
   "cell_type": "code",
   "execution_count": null,
   "id": "6b0a2e72",
   "metadata": {},
   "outputs": [],
   "source": [
    "messages = [HumanMessage(content=\"you give me current stock price of Apple  and add it to current stock price of Tesla?.\")]\n",
    "messages = react_graph2.invoke({\"messages\": messages})\n",
    "for m in messages['messages']:\n",
    "    m.pretty_print()"
   ]
  }
 ],
 "metadata": {
  "kernelspec": {
   "display_name": "myvenv",
   "language": "python",
   "name": "python3"
  },
  "language_info": {
   "codemirror_mode": {
    "name": "ipython",
    "version": 3
   },
   "file_extension": ".py",
   "mimetype": "text/x-python",
   "name": "python",
   "nbconvert_exporter": "python",
   "pygments_lexer": "ipython3",
   "version": "3.12.7"
  }
 },
 "nbformat": 4,
 "nbformat_minor": 5
}
