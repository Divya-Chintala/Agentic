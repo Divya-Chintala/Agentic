{
 "cells": [
  {
   "cell_type": "markdown",
   "id": "dc1fdd36",
   "metadata": {},
   "source": [
    "#### AI Travel Agent & Expense Planner\n",
    "##### Purpose: Trip planning for any city worldwide with Realtime data."
   ]
  },
  {
   "cell_type": "code",
   "execution_count": 86,
   "id": "595b926b",
   "metadata": {},
   "outputs": [],
   "source": [
    "from langchain_community.tools import DuckDuckGoSearchResults\n",
    "from typing import Annotated,TypedDict,List,Sequence\n",
    "from pydantic import BaseModel,Field\n",
    "from langchain_core.messages import BaseMessage\n",
    "import operator\n",
    "\n",
    "web_tool=DuckDuckGoSearchResults()"
   ]
  },
  {
   "cell_type": "code",
   "execution_count": 87,
   "id": "51a8fc35",
   "metadata": {},
   "outputs": [
    {
     "data": {
      "text/plain": [
       "'snippet: The lowest temperature will be a temperate 80.6°F. Sunrise was at 6:28 am and sunset will be at 8:07 pm; the daylight will last for 13h and 40min. Current condition, title: Weather today - Miami Beach, FL, link: https://www.weather-atlas.com/en/florida-usa/miami-beach, snippet: For comments, questions, daily beach conditions, or more information, please contact the Ocean Rescue Hotline at (305) 673-7714 (option #1 for weather conditions, option #2 to speak with a person) Ocean Rescue Headquarters, title: Current Beach Conditions - City of Miami Beach, link: https://www.miamibeachfl.gov/city-hall/fire/ocean-rescue/currentbeachconditions/, snippet: Current ocean temperature in Miami. Water temperature in Miami today is 84.6°F. Based on our historical data over a period of ten years, the warmest water in this day in Miami was recorded in 2010 and was 86.2°F, and the coldest was recorded in 2007 at 82.4°F. Sea water temperature in Miami is expected to be constant 84.6°F in the next 10 days., title: Miami ocean water temperature today | FL, United States temp, link: https://seatemperature.info/miami-water-temperature.html, snippet: The current weather in Miami FL as of 4:15 PM EDT on Mon Jun 16th 2025, has a sky condition of Partly Cloudy with the visibility of 9 mile(s) and the UV index at 6.9. It is 88 degrees fahrenheit but feels like 99 degrees. The barometric pressure is 30.08 - measured by inches of mercury - and is steady since its last observation., title: Miami FL Current Weather Report and Forecast, link: https://www.localconditions.com/weather-miami-florida/33101/'"
      ]
     },
     "execution_count": 87,
     "metadata": {},
     "output_type": "execute_result"
    }
   ],
   "source": [
    "web_tool.invoke(\"Just give temparature in celsius, what is the current temparature at miami beach?\")"
   ]
  },
  {
   "cell_type": "code",
   "execution_count": 88,
   "id": "822838bc",
   "metadata": {},
   "outputs": [],
   "source": [
    "class MessageState(TypedDict):\n",
    "    messages:Annotated[Sequence[BaseMessage], operator.add]"
   ]
  },
  {
   "cell_type": "code",
   "execution_count": 3,
   "id": "588d6884",
   "metadata": {},
   "outputs": [
    {
     "data": {
      "text/plain": [
       "True"
      ]
     },
     "execution_count": 3,
     "metadata": {},
     "output_type": "execute_result"
    }
   ],
   "source": [
    "import os\n",
    "from dotenv import load_dotenv\n",
    "from langchain_community.utilities import OpenWeatherMapAPIWrapper\n",
    "from warnings import filterwarnings\n",
    "filterwarnings(\"ignore\")\n",
    "\n",
    "load_dotenv()\n"
   ]
  },
  {
   "cell_type": "markdown",
   "id": "9f295169",
   "metadata": {},
   "source": [
    "#### `OpenWeatherMap` component to fetch weather information."
   ]
  },
  {
   "cell_type": "code",
   "execution_count": 5,
   "id": "9ced1148",
   "metadata": {},
   "outputs": [
    {
     "name": "stdout",
     "output_type": "stream",
     "text": [
      "In London,GB, the current weather is as follows:\n",
      "Detailed status: overcast clouds\n",
      "Wind speed: 5.14 m/s, direction: 250°\n",
      "Humidity: 44%\n",
      "Temperature: \n",
      "  - Current: 25.77°C\n",
      "  - High: 26.67°C\n",
      "  - Low: 24.47°C\n",
      "  - Feels like: 25.55°C\n",
      "Rain: {}\n",
      "Heat index: None\n",
      "Cloud cover: 97%\n"
     ]
    }
   ],
   "source": [
    "import os\n",
    "from langchain_community.utilities import OpenWeatherMapAPIWrapper\n",
    "\n",
    "os.environ[\"OPENWEATHERMAP_API_KEY\"] = os.getenv(\"openweatherkey_one\")\n",
    "weather = OpenWeatherMapAPIWrapper()\n",
    "weather_data = weather.run(\"London,GB\")\n",
    "print(weather_data)"
   ]
  },
  {
   "cell_type": "code",
   "execution_count": null,
   "id": "f9305f09",
   "metadata": {},
   "outputs": [],
   "source": [
    "\n",
    "from langchain_groq import ChatGroq\n",
    "from langchain_community.tools import tool\n",
    "model=ChatGroq(model=\"llama-3.1-8b-instant\")\n",
    "\n"
   ]
  },
  {
   "cell_type": "markdown",
   "id": "b5ddb5d4",
   "metadata": {},
   "source": [
    "### Tool to extract Real-time weather information of given Location"
   ]
  },
  {
   "cell_type": "code",
   "execution_count": 10,
   "id": "853390c9",
   "metadata": {},
   "outputs": [
    {
     "data": {
      "text/plain": [
       "'The current temperature in London, GB is 25.77°C.'"
      ]
     },
     "execution_count": 10,
     "metadata": {},
     "output_type": "execute_result"
    }
   ],
   "source": [
    "\n",
    "\n",
    "@tool\n",
    "def get_current_weather(Location:str)->str:\n",
    "    \n",
    "    \"This tool gives current weather of given location\"\n",
    "    weather_data = weather.run(Location)\n",
    "    System_prompt=[\"You are a helpful assistant that extract current temparature from given data\"]\n",
    "    query=System_prompt+ [weather_data]\n",
    "    Result=model.invoke(query)\n",
    "    return Result.content\n",
    "\n",
    "get_current_weather.invoke(\"London,GB\")\n"
   ]
  },
  {
   "cell_type": "markdown",
   "id": "fc13c94a",
   "metadata": {},
   "source": [
    "AI Travel Agent & Expense Planner(Purpose: Trip planning for any city worldwide with Realtime data.\")\n",
    "\n",
    "• Real-time weather information\n",
    "• Top attractions and activities\n",
    "• Hotel cost calculation (per day × total days)\n",
    "• Currency conversion to user's native currency\n",
    "• Complete itinerary generation\n",
    "• Total expense calculation\n",
    "• generate a summary of the entire output\n",
    "\n",
    "user_input\n",
    "  |\n",
    "search attraction and activity\n",
    "1. search attracation\n",
    "2. search restaurant\n",
    "3. search activity\n",
    "4. search transportation\n",
    "  |\n",
    "search weather forcasting\n",
    "1. get current weather\n",
    "2. get weather forcast\n",
    "  |\n",
    "search hotel costs\n",
    "1. search hotel\n",
    "2. estimate the hotel cost\n",
    "3. budget_range\n",
    "  |\n",
    "calculate total cost\n",
    "1. add\n",
    "2. multiply\n",
    "3. calculated total cost\n",
    "4. calcualte the daily budget\n",
    "    | \n",
    "currency_converion\n",
    "1. get exchnage rate\n",
    "2. convert currancy\n",
    "    | \n",
    "Itinery generation\n",
    "1. get day plan\n",
    "2. crete full itinery\n",
    "    |\n",
    "create Trip Summary\n",
    "    |\n",
    "Retun complete traval plan\n"
   ]
  },
  {
   "cell_type": "markdown",
   "id": "8b91f051",
   "metadata": {},
   "source": [
    "search attraction and activity\n",
    "1. search attracation\n",
    "2. search restaurant\n",
    "3. search activity\n",
    "4. search transportation"
   ]
  },
  {
   "cell_type": "code",
   "execution_count": 12,
   "id": "2c44abef",
   "metadata": {},
   "outputs": [],
   "source": [
    "from langchain_community.tools import tool\n",
    "search_llm=ChatGroq(model=\"llama-3.1-8b-instant\")"
   ]
  },
  {
   "cell_type": "code",
   "execution_count": 20,
   "id": "99defda5",
   "metadata": {},
   "outputs": [
    {
     "name": "stdout",
     "output_type": "stream",
     "text": [
      "**Welcome to London**\n",
      "\n",
      "London is a vibrant and diverse city with a rich history, world-class museums, iconic landmarks, and a thriving food scene. Here are some top suggestions for your trip:\n",
      "\n",
      "**Top 5 Attractions in London:**\n",
      "\n",
      "1. **Buckingham Palace**: The official residence of the British monarch, Buckingham Palace is a must-visit attraction in London. You can watch the Changing of the Guard ceremony, which takes place daily at 11:30 am from April to July and on alternate days the rest of the year.\n",
      "2. **The British Museum**: One of the world's greatest museums, the British Museum houses a vast collection of artifacts from ancient civilizations, including the Rosetta Stone, the Elgin Marbles, and the mummies in the Ancient Egypt gallery.\n",
      "3. **The London Eye**: A giant Ferris wheel on the South Bank of the Thames, the London Eye offers stunning views of the city from its 32 glass-enclosed capsules.\n",
      "4. **The Tower of London**: A historic fortress that has served as a palace, prison, armory, and even a zoo over the centuries, the Tower of London is home to the Crown Jewels and the Yeoman Warders (also known as Beefeaters).\n",
      "5. **Hyde Park**: One of London's largest parks, Hyde Park offers boating on the Serpentine Lake, cycling, and plenty of walking paths. You can also visit the Diana Memorial Fountain and the Speakers' Corner, where public speaking and debate have taken place for centuries.\n",
      "\n",
      "**Top 5 Restaurants with Multi-Cuisine in London:**\n",
      "\n",
      "1. **Dishoom**: A popular Indian restaurant with several locations in London, Dishoom serves up delicious Bombay-style street food, including their famous bacon-naan sandwich.\n",
      "2. **Honey & Co**: A cozy Middle Eastern restaurant in Fitzrovia, Honey & Co offers a range of dishes, including falafel, shawarma, and kebabs, all made with fresh, seasonal ingredients.\n",
      "3. **Busaba Eathai**: A Thai restaurant with several locations in London, Busaba Eathai serves up spicy curries, fragrant noodle dishes, and fresh salads.\n",
      "4. **Padella**: A fresh pasta bar in Borough Market, Padella offers a range of handmade pasta dishes, including cacio e pepe, spaghetti carbonara, and pappardelle with wild mushrooms.\n",
      "5. **The Delaunay**: A grand café in Covent Garden, The Delaunay serves up a range of international dishes, including Austrian-style sausages, French onion soup, and Italian risotto.\n",
      "\n",
      "**Top 5 Activities to Do in London:**\n",
      "\n",
      "1. **Take a West End Show**: London's theater scene is world-renowned, with a range of productions to choose from, including musicals, plays, and comedy shows.\n",
      "2. **Explore a Market**: London has several bustling markets, including Borough Market, Camden Market, and Brick Lane Market, where you can find everything from fresh produce to vintage clothing.\n",
      "3. **Take a Thames River Cruise**: A river cruise is a great way to see the city's landmarks and bridges while learning about its history and culture.\n",
      "4. **Visit a Museum or Gallery**: London is home to many world-class museums and galleries, including the National Gallery, the Tate Modern, and the British Museum.\n",
      "5. **Go Shopping**: From luxury department stores like Harrods and Selfridges to high-street favorites like Topshop and H&M, London has something for every shopper.\n",
      "\n",
      "**Ways of Transportation in London:**\n",
      "\n",
      "1. **The Tube (London Underground)**: The easiest way to get around London, the Tube is a comprehensive network of underground trains that cover most areas of the city.\n",
      "2. **Buses**: London's bus network is extensive, with many routes covering all areas of the city.\n",
      "3. **Black Cabs**: London's iconic black cabs are a convenient way to get around, especially during rush hour.\n",
      "4. **Uber**: A popular ride-hailing app in London, Uber is a convenient way to get around, especially at night.\n",
      "5. **Walking**: London is a walkable city, and walking is a great way to explore its neighborhoods and landmarks.\n",
      "\n",
      "I hope this helps you plan your trip to London!\n"
     ]
    }
   ],
   "source": [
    "\n",
    "def get_attractions(Location:str)->str:\n",
    "       \n",
    "    System_prompt=[\"You are a helpful assistant that gives list of top 5 attractions, list of top 5 resturants with multi-cusines, list of top 5 activities to do and ways of transporation in given location: \"]\n",
    "    query=System_prompt + [Location]\n",
    "    Result=search_llm.invoke(query)\n",
    "    return Result.content\n",
    "\n",
    "print(get_attractions(Location=\"London\"))"
   ]
  },
  {
   "cell_type": "code",
   "execution_count": null,
   "id": "15e0590e",
   "metadata": {},
   "outputs": [],
   "source": [
    "from langchain_community.tools.tavily_search import TavilySearchResults\n",
    "\n",
    "Tavily_search=TavilySearchResults()"
   ]
  },
  {
   "cell_type": "code",
   "execution_count": 43,
   "id": "90d6e124",
   "metadata": {},
   "outputs": [],
   "source": [
    "from langchain_core.prompts import ChatPromptTemplate\n",
    "from langchain.chains import LLMChain\n",
    "\n",
    "def get_hotel(Location:str)->str:\n",
    "       \n",
    "    \n",
    "    context=Tavily_search.invoke(f\"list of top five (means best ratings) hotels in given location : {Location} along with their price per night\")\n",
    "    \n",
    "    print(context)\n",
    "    print(\"********************************************\")\n",
    "    Prompt_template=ChatPromptTemplate.from_template(\n",
    "        \"\"\"You are a helpful assistant. From this search result :\\n\\n{context}\\n\\n\n",
    "        list the best 3 hotels in {Location} from given location within budget \"\"\"   )\n",
    "    \n",
    "    chain=LLMChain(llm=search_llm,prompt=Prompt_template)\n",
    "    result=chain.invoke({\"context\":context,\"Location\":Location})\n",
    "    print(result[\"text\"])\n",
    "  \n",
    "    pass \n",
    "\n"
   ]
  },
  {
   "cell_type": "code",
   "execution_count": 44,
   "id": "b77b5454",
   "metadata": {},
   "outputs": [
    {
     "name": "stdout",
     "output_type": "stream",
     "text": [
      "[{'title': 'Luxury London hotels: The best five star stays in the capital in 2025', 'url': 'https://luxurylondon.co.uk/travel/london/best-five-star-hotels-in-london/', 'content': '*   Cookie\\n    \\n    \\\\_\\\\_cf\\\\_bm\\n    \\n*   Duration\\n    \\n    1 hour\\n    \\n*   Description\\n    \\n    This cookie, set by Cloudflare, is used to support Cloudflare Bot Management. [...] link](https://cdn-cookieyes.com/assets/images/external-link.svg)](https://asklocala.com/advertising-privacy-policy/?_gl=1*145zs89*_up*MQ..*_ga*MjA4NDgxNDYxOC4xNjk2NTEyNTU5*_ga_VRM83PCHBL*MTY5NjUxMjU1OC4xLjEuMTY5NjUxMjU3NS4wLjAuMA..*_ga_5N7836YC9X*MTY5NjUxMjU1OC4xLjEuMTY5NjUxMjU3NS4wLjAuMA..) [...] link](https://cdn-cookieyes.com/assets/images/external-link.svg)](https://asklocala.com/advertising-privacy-policy/?_gl=1*145zs89*_up*MQ..*_ga*MjA4NDgxNDYxOC4xNjk2NTEyNTU5*_ga_VRM83PCHBL*MTY5NjUxMjU1OC4xLjEuMTY5NjUxMjU3NS4wLjAuMA..*_ga_5N7836YC9X*MTY5NjUxMjU1OC4xLjEuMTY5NjUxMjU3NS4wLjAuMA..)', 'score': 0.50476116}]\n",
      "********************************************\n",
      "Based on the search result, I can provide you with information about the best 5-star hotels in London. However, I do not have access to budget information. But since you're looking for the best 3 hotels, I will list the top 3 hotels mentioned in the search result:\n",
      "\n",
      "1. **The best 5-star stay** in London that I can identify from the search result is not explicitly mentioned, however, the article suggests that it will be in the \"Luxury London hotels: The best five star stays in the capital in 2025\" article, which can be found at https://luxurylondon.co.uk/travel/london/best-five-star-hotels-in-london/. \n",
      "\n",
      "   It would be advisable to visit the webpage to discover the top 3 hotels.\n",
      "\n",
      "2. Since I can't access the webpage to find the top 3 hotels, I can provide you with general information on how to search for budget-friendly 5-star hotels in London. \n",
      "\n",
      "3. You can also try searching for \"Budget 5-star hotels in London\" or \"Luxury hotels in London under budget\" to find relevant results.\n"
     ]
    }
   ],
   "source": [
    "get_hotel(Location=\"London\")"
   ]
  },
  {
   "cell_type": "code",
   "execution_count": 46,
   "id": "e0bc2e98",
   "metadata": {},
   "outputs": [
    {
     "data": {
      "text/plain": [
       "[{'title': 'The best cheap London hotels from $59/night - Skyscanner',\n",
       "  'url': 'https://www.skyscanner.com/hotels/united-kingdom/london-hotels/ci-27544008',\n",
       "  'content': 'Best hotels in London based on location\\u200b\\u200b For the best-located London hotels, consider the Park Plaza London Waterloo, The Tower Hotel, and Hilton London',\n",
       "  'score': 0.82391036},\n",
       " {'title': '16 Best Hotels in London. Hotels from $20/night - KAYAK',\n",
       "  'url': 'https://www.kayak.com/London-Hotels.28501.hotel.ksp',\n",
       "  'content': '![King Solomon Hotel- Golders Green - London - Bedroom](https://content.r9cdn.net/rimg/himg/59/e6/70/expedia_group-54913-e5e213-606328.jpg?width=335&height=268&crop=true)\\n![The Z Hotel Covent Garden - London - Balcony](https://content.r9cdn.net/rimg/himg/9a/e6/69/expedia_group-4594486-62537031-328724.jpg?width=335&height=268&crop=true)\\n![Hilton London Metropole - London - Bar](https://content.r9cdn.net/rimg/himg/7c/a2/10/leonardo-12285-194237892-880939.jpg?width=335&height=268&crop=true) [...] ![Holiday Inn London - Bloomsbury - London - Front desk](https://content.r9cdn.net/rimg/himg/f9/d9/5a/leonardo-18951-179680559-549556.jpg?width=335&height=268&crop=true)\\n![Marylebone Inn - London - Bedroom](https://content.r9cdn.net/rimg/himg/e0/f6/db/expediav2-24562-aa875d-322039.jpg?width=335&height=268&crop=true)\\n![The Exhibitionist Hotel - London - Living room](https://content.r9cdn.net/rimg/himg/92/48/00/expedia_group-33463-22797852-498170.jpg?width=335&height=268&crop=true) [...] ![Crestfield Hotel - London - Bedroom](https://content.r9cdn.net/rimg/himg/e4/5e/03/expedia_group-122201-224929988-626130.jpg?width=335&height=268&crop=true)\\n![The Belgrove Hotel - London - Building](https://content.r9cdn.net/rimg/himg/29/c6/d1/ostrovok-136851-2d61fe-456769.jpg?width=335&height=268&crop=true)\\n![Elmwood Hotel - London - Building](https://content.r9cdn.net/rimg/himg/4f/1d/37/expedia_group-283712-680577ac-816789.jpg?width=335&height=268&crop=true)',\n",
       "  'score': 0.80126834}]"
      ]
     },
     "execution_count": 46,
     "metadata": {},
     "output_type": "execute_result"
    }
   ],
   "source": [
    "Tavily_search.invoke(f\"Top hotels in london along with their price per night\")"
   ]
  },
  {
   "cell_type": "code",
   "execution_count": 80,
   "id": "3586c525",
   "metadata": {},
   "outputs": [],
   "source": [
    "def get_hotel1(Hotel_name:str,Location:str)->str:\n",
    "       \n",
    "    \n",
    "    context=Tavily_search.invoke(f\"provide {Hotel_name}, {Location} price per night\")\n",
    "    \n",
    "    print(context)\n",
    "    print(\"********************************************\")\n",
    "    Prompt_template=ChatPromptTemplate.from_template(\n",
    "        \"\"\"You are a helpful assistant. From this search result :\\n\\n{context}\\n\\n\n",
    "        analyse and just extract Hotel name and its lotest price per night in USD \"\"\")\n",
    "    \n",
    "    chain=LLMChain(llm=search_llm,prompt=Prompt_template)\n",
    "    result=chain.invoke({\"context\":context,\"Location\":Location})\n",
    "    print(result[\"text\"])"
   ]
  },
  {
   "cell_type": "code",
   "execution_count": 81,
   "id": "80f904c5",
   "metadata": {},
   "outputs": [
    {
     "name": "stdout",
     "output_type": "stream",
     "text": [
      "[{'title': 'The Caesar Hotel in London, the United Kingdom from $123', 'url': 'https://www.momondo.com/hotels/london/Caesar-Hotel.mhd35932.ksp', 'content': '#### Distance to airport\\n\\n10.0 mi\\n\\n#### Check in/Check out\\n\\nCheck in anytime after 2:00 PM, check out anytime before 12:00 PM\\n\\n#### Cancellation/prepayment\\n\\nCancellation/prepayment policies vary by room type and provider.\\n\\n## Frequently asked questions\\n\\n#### How does The Caesar Hotel compare to other 4 star hotels in London?\\n\\nThere is a $205/night difference in the average price of 4 star hotels in London ($402/night) and the average nightly rate at The Caesar Hotel ($196/night). [...] ![Hero photo](/rimg/himg/a8/2e/77/expedia_group-35932-186204814-144255.jpg?width=1366&height=768&crop=true)\\n\\n# The Caesar Hotel\\n\\n4-star Hotel with Fitness center\\n\\n26-33 Queens Gardens, London, W2 3BE\\n\\nbased on 3,250 reviews\\n\\nper night\\n\\n![Mirai]()\\n![Agoda.com]()\\n![Agoda.com]()\\n\\n## About The Caesar Hotel, London\\n\\n## The Caesar Hotel photos [...] ### Free cancellation\\n\\n### Free cancellation\\n\\n### Millions of reviews\\n\\n### Millions of reviews\\n\\n### Price Alerts\\n\\n### Price Alerts\\n\\n## An easier way to manage your London trip\\n\\n##### We make it super easy to schedule, organize and travel with friends or family. Trips is free — and available to use no matter where you book.\\n\\n## Get notified when prices go down\\n\\n##### Daily price changes in your inbox - only with Price Alerts.\\n\\n## Find better results for your stay in London', 'score': 0.86024034}, {'title': 'Caesar Hotel, London, United Kingdom - www.trivago.com', 'url': 'https://www.trivago.com/en-US/oar/caesar-hotel-london?search=100-18436', 'content': 'Compare hotel prices and find an amazing price for the Caesar Hotel Hotel in London, United Kingdom ... $168 per night. Expected price for:Jun 2025. See', 'score': 0.85967577}, {'title': 'Caesar Hotel in London from $307 - Priceline.com', 'url': 'https://www.priceline.com/hotel-deals/en-us/P3000035825/H599703/caesar-hotel.ssp', 'content': '![](https://q-xx.bstatic.com/xdata/images/hotel/300x300/585398975.jpg?k=657c1aadbb0880155c086764f2f1e20f2d192bf253056568d78b277a41eccfaf&o=)\\n![](https://q-xx.bstatic.com/xdata/images/hotel/300x300/585400760.jpg?k=c9e39ef66fe0ac95a2010979cc9a4026b2c488b6d8a4758938419f6cab5ee576&o=)\\n![](https://q-xx.bstatic.com/xdata/images/hotel/300x300/585400687.jpg?k=0248634dc3f80c732562ae3d0161452171c901fdc0db5609d426be51117172cb&o=) [...] ![](https://q-xx.bstatic.com/xdata/images/hotel/300x300/585402523.jpg?k=c18f0af207e24716175c64d10e4a57ec51ad9e012cb51ed5da0f43da8b6b3b24&o=)\\n![](https://q-xx.bstatic.com/xdata/images/hotel/300x300/585402503.jpg?k=757b5073c1afdc801b1b234d5eda0b59e7fb5e15d0e998dd8cfc895ad5b53b82&o=)\\n![](https://q-xx.bstatic.com/xdata/images/hotel/300x300/585402579.jpg?k=8606e6387de4a95d195a784dc76fb2f3471dca97cc32806011508a5bc2648de3&o=) [...] ![](https://q-xx.bstatic.com/xdata/images/hotel/300x300/585399033.jpg?k=759f89ef8d3879da927485101169325c3fb5214682c34cd1e02769ee20a7ed74&o=)\\n![](https://q-xx.bstatic.com/xdata/images/hotel/300x300/585398996.jpg?k=8c9de70909507abf666da4d61921765110ddd80ac42da1f388327f602dc4f138&o=)\\n![](https://q-xx.bstatic.com/xdata/images/hotel/300x300/585398975.jpg?k=657c1aadbb0880155c086764f2f1e20f2d192bf253056568d78b277a41eccfaf&o=)', 'score': 0.8351749}, {'title': 'The Caesar Hotel Reviews, Deals & Photos 2025 - Expedia', 'url': 'https://www.expedia.com/London-Hotels-Caesar-Hotel.h28126.Hotel-Information', 'content': 'As of Jun 16, 2025, prices found for a 1-night stay for 2 adults at The Caesar Hotel on Jun 23, 2025 start from $255.69, excluding taxes and fees. ... London', 'score': 0.83452857}]\n",
      "********************************************\n",
      "Based on the search results, here are the extracted hotel names and their latest prices per night in USD:\n",
      "\n",
      "1. **The Caesar Hotel**\n",
      "\t* Price: $123 (from Momondo)\n",
      "\t* Price: $168 (from Trivago)\n",
      "\t* Price: $255.69 (from Expedia)\n",
      "2. **Caesar Hotel**\n",
      "\t* Price: $307 (from Priceline)\n",
      "\n",
      "Note that the prices may vary depending on the source and the date of travel. The cheapest price is offered by Momondo at $123 per night.\n"
     ]
    }
   ],
   "source": [
    "get_hotel1( \"The Caesar Hotel\",\"London\")"
   ]
  },
  {
   "cell_type": "code",
   "execution_count": 72,
   "id": "a7464703",
   "metadata": {},
   "outputs": [
    {
     "name": "stdout",
     "output_type": "stream",
     "text": [
      "snippet: Best hotel in London for: a London landmark hit-list in complete luxury. Design notes: This grande dame hotel dates back to 1887 and is all about elegant opulence. The Mandarin Oriental Hyde Park is one of London's most famous and most lavish places to stay. ... Our room was perched up the top of the hotel with a framed view of Victorian ..., title: The best hotels in London for 2025, tried and tested, link: https://www.houseandgarden.co.uk/gallery/best-hotels-in-london, snippet: Situated in the heart of London's elegant Mayfair area, Flemings Mayfair was voted as the best hotel in London by Travel + Leisure readers in the 2024 World's Best Awards. The 129-room hotel ..., title: The Best Hotels in London - Travel + Leisure, link: https://www.travelandleisure.com/best-hotels-in-london-8608254, snippet: Unforgettable food. Cutting-edge design. Immersive experiences. These are some of your top criteria for judging what makes a quality hotel—not to mention a worthy resort, cruise, spa, or island ..., title: The Top Hotels in London: 2024 Readers' Choice Awards, link: https://www.cntraveler.com/gallery/readers-choice-awards-london-hotels, snippet: Top Colleges. Advisor. Advisor. See All. ... To find the best hotels in London, our incognito inspectors posed as ordinary guests and stayed multiple nights at each property. ... Europe's first ..., title: The 45 Best London Hotels - Forbes, link: https://www.forbes.com/sites/forbestravelguide/2024/09/25/the-41-best-london-hotels/\n"
     ]
    }
   ],
   "source": [
    "\n",
    "\n",
    "from langchain_community.tools import DuckDuckGoSearchResults\n",
    "duck_search=DuckDuckGoSearchResults()\n",
    "print(duck_search.invoke(\"list top 5 best hotels in london?\"))"
   ]
  },
  {
   "cell_type": "code",
   "execution_count": 66,
   "id": "7416fd46",
   "metadata": {},
   "outputs": [],
   "source": [
    "\n",
    "def get_hotel_data(Hotel_name:str,Location:str)->str:\n",
    "    \"\"\"This tool provides real-time hotel price per night\"\"\"\n",
    "    result_duck=duck_search.invoke(f\"provide {Hotel_name} hotel {Location} price per night  \")\n",
    "    result_tavily=Tavily_search.invoke(f\"provide {Hotel_name} hotel {Location} price per night\")\n",
    "    return result_duck,result_tavily"
   ]
  },
  {
   "cell_type": "code",
   "execution_count": 68,
   "id": "d20c4c3a",
   "metadata": {},
   "outputs": [
    {
     "data": {
      "text/plain": [
       "'snippet: The Caesar Hotel Review. Offering a sauna, a gym and a meeting room, the comfortable Caesar Hotel London is located not far from Bayswater. Mayfair is 2.3 km from the venue and Paddington Street Gardens is 2.4 km away. Each morning a full English breakfast is available at the in the restaurant., title: The Caesar Hotel London with Minimum Price 48£: Expert Review | UPDATED ..., link: https://bedandbreakfast-london.com/caesar-hotel-london/, snippet: Book The Caesar Hotel, London, England on Tripadvisor: See 111 traveler reviews, 123 candid photos, and great deals for The Caesar Hotel, ranked #139 of 1,170 hotels in London, England and rated 4 of 5 at Tripadvisor. ... per night. $350. per night. $222. per night. Jun. Jul. Jun 10. Today. Jun 12. Jun 14. Jun 16. Jun 18. Jun 20. Jun 22. Jun 24 ..., title: THE CAESAR HOTEL - Updated 2025 Prices & Reviews (London, England), link: https://www.tripadvisor.com/Hotel_Review-g186338-d192097-Reviews-or20-The_Caesar_Hotel-London_England.html, snippet: The Caesar Hotel, London - Book The Caesar Hotel online with best deal and discount with lowest price on Hotel Booking. Best Price (Room Rates) Guarantee Check all reviews, photos, contact number & address of The Caesar Hotel, London and Free cancellation of Hotel available., title: The Caesar Hotel, London @AED 503 - The Caesar Hotel Price, Address ..., link: https://www.makemytrip.com/hotels-international/en-ae/united_kingdom/london-hotels/the_caesar_hotel-details.html, snippet: You could get an extra 10% off with Member Prices and collect a stamp for every night stayed. Collect 10 stamps, get 1 reward* night. ... Beginning of main content. See all properties. Caesar Hotel. 4.0 star property. Upscale hotel with restaurant, near Hyde Park . 26-33 Queens Gardens, London, England, W2 3BE., title: Caesar Hotel, London: Hotel Reviews, Rooms & Prices | Hotels.com, link: https://ae.hotels.com/ho121965/caesar-hotel-london-united-kingdom/'"
      ]
     },
     "execution_count": 68,
     "metadata": {},
     "output_type": "execute_result"
    }
   ],
   "source": [
    "res_d,res_t=get_hotel_data(\"The Caesar Hotel\",\"London\")\n",
    "\n",
    "\n",
    "\n",
    "res_d"
   ]
  },
  {
   "cell_type": "code",
   "execution_count": 69,
   "id": "aa84731e",
   "metadata": {},
   "outputs": [
    {
     "data": {
      "text/plain": [
       "[{'title': 'The Caesar Hotel in London, the United Kingdom from $123',\n",
       "  'url': 'https://www.momondo.com/hotels/london/Caesar-Hotel.mhd35932.ksp',\n",
       "  'content': '#### Distance to airport\\n\\n10.0 mi\\n\\n#### Check in/Check out\\n\\nCheck in anytime after 2:00 PM, check out anytime before 12:00 PM\\n\\n#### Cancellation/prepayment\\n\\nCancellation/prepayment policies vary by room type and provider.\\n\\n## Frequently asked questions\\n\\n#### How does The Caesar Hotel compare to other 4 star hotels in London?\\n\\nThere is a $205/night difference in the average price of 4 star hotels in London ($402/night) and the average nightly rate at The Caesar Hotel ($196/night). [...] ![Hero photo](/rimg/himg/a8/2e/77/expedia_group-35932-186204814-144255.jpg?width=1366&height=768&crop=true)\\n\\n# The Caesar Hotel\\n\\n4-star Hotel with Fitness center\\n\\n26-33 Queens Gardens, London, W2 3BE\\n\\nbased on 3,250 reviews\\n\\nper night\\n\\n![Mirai]()\\n![Agoda.com]()\\n![Agoda.com]()\\n\\n## About The Caesar Hotel, London\\n\\n## The Caesar Hotel photos [...] ### Free cancellation\\n\\n### Free cancellation\\n\\n### Millions of reviews\\n\\n### Millions of reviews\\n\\n### Price Alerts\\n\\n### Price Alerts\\n\\n## An easier way to manage your London trip\\n\\n##### We make it super easy to schedule, organize and travel with friends or family. Trips is free — and available to use no matter where you book.\\n\\n## Get notified when prices go down\\n\\n##### Daily price changes in your inbox - only with Price Alerts.\\n\\n## Find better results for your stay in London',\n",
       "  'score': 0.8684817},\n",
       " {'title': 'Caesar Hotel, London, United Kingdom - www.trivago.com',\n",
       "  'url': 'https://www.trivago.com/en-US/oar/caesar-hotel-london?search=100-18436',\n",
       "  'content': 'Compare hotel prices and find an amazing price for the Caesar Hotel Hotel in London, United Kingdom ... $168 per night. Expected price for:Jun 2025. See',\n",
       "  'score': 0.86632514},\n",
       " {'title': 'Caesar Hotel in London from $307 - Priceline.com',\n",
       "  'url': 'https://www.priceline.com/hotel-deals/en-us/P3000035825/H599703/caesar-hotel.ssp',\n",
       "  'content': '![](https://q-xx.bstatic.com/xdata/images/hotel/300x300/585402523.jpg?k=c18f0af207e24716175c64d10e4a57ec51ad9e012cb51ed5da0f43da8b6b3b24&o=)\\n![](https://q-xx.bstatic.com/xdata/images/hotel/300x300/585402503.jpg?k=757b5073c1afdc801b1b234d5eda0b59e7fb5e15d0e998dd8cfc895ad5b53b82&o=)\\n![](https://q-xx.bstatic.com/xdata/images/hotel/300x300/585402579.jpg?k=8606e6387de4a95d195a784dc76fb2f3471dca97cc32806011508a5bc2648de3&o=) [...] ![](https://q-xx.bstatic.com/xdata/images/hotel/300x300/585398975.jpg?k=657c1aadbb0880155c086764f2f1e20f2d192bf253056568d78b277a41eccfaf&o=)\\n![](https://q-xx.bstatic.com/xdata/images/hotel/300x300/585400760.jpg?k=c9e39ef66fe0ac95a2010979cc9a4026b2c488b6d8a4758938419f6cab5ee576&o=)\\n![](https://q-xx.bstatic.com/xdata/images/hotel/300x300/585400687.jpg?k=0248634dc3f80c732562ae3d0161452171c901fdc0db5609d426be51117172cb&o=) [...] ![](https://q-xx.bstatic.com/xdata/images/hotel/300x300/585399033.jpg?k=759f89ef8d3879da927485101169325c3fb5214682c34cd1e02769ee20a7ed74&o=)\\n![](https://q-xx.bstatic.com/xdata/images/hotel/300x300/585398996.jpg?k=8c9de70909507abf666da4d61921765110ddd80ac42da1f388327f602dc4f138&o=)\\n![](https://q-xx.bstatic.com/xdata/images/hotel/300x300/585398975.jpg?k=657c1aadbb0880155c086764f2f1e20f2d192bf253056568d78b277a41eccfaf&o=)',\n",
       "  'score': 0.8325776},\n",
       " {'title': 'The Caesar Hotel Reviews, Deals & Photos 2025 - Expedia',\n",
       "  'url': 'https://www.expedia.com/London-Hotels-Caesar-Hotel.h28126.Hotel-Information',\n",
       "  'content': 'As of Jun 16, 2025, prices found for a 1-night stay for 2 adults at The Caesar Hotel on Jun 23, 2025 start from $255.69, excluding taxes and fees. ... London',\n",
       "  'score': 0.8315952}]"
      ]
     },
     "execution_count": 69,
     "metadata": {},
     "output_type": "execute_result"
    }
   ],
   "source": [
    "res_t"
   ]
  },
  {
   "cell_type": "code",
   "execution_count": 62,
   "id": "d187d0f0",
   "metadata": {},
   "outputs": [
    {
     "ename": "TypeError",
     "evalue": "string indices must be integers, not 'str'",
     "output_type": "error",
     "traceback": [
      "\u001b[31m---------------------------------------------------------------------------\u001b[39m",
      "\u001b[31mTypeError\u001b[39m                                 Traceback (most recent call last)",
      "\u001b[36mCell\u001b[39m\u001b[36m \u001b[39m\u001b[32mIn[62]\u001b[39m\u001b[32m, line 1\u001b[39m\n\u001b[32m----> \u001b[39m\u001b[32m1\u001b[39m \u001b[43mpretty_print_hotels\u001b[49m\u001b[43m(\u001b[49m\u001b[43mres\u001b[49m\u001b[43m)\u001b[49m\n",
      "\u001b[36mCell\u001b[39m\u001b[36m \u001b[39m\u001b[32mIn[61]\u001b[39m\u001b[32m, line 5\u001b[39m, in \u001b[36mpretty_print_hotels\u001b[39m\u001b[34m(hotel_data)\u001b[39m\n\u001b[32m      3\u001b[39m \u001b[38;5;28;01mdef\u001b[39;00m\u001b[38;5;250m \u001b[39m\u001b[34mpretty_print_hotels\u001b[39m(hotel_data: \u001b[38;5;28mlist\u001b[39m):\n\u001b[32m      4\u001b[39m     \u001b[38;5;28;01mfor\u001b[39;00m idx, hotel \u001b[38;5;129;01min\u001b[39;00m \u001b[38;5;28menumerate\u001b[39m(hotel_data, start=\u001b[32m1\u001b[39m):\n\u001b[32m----> \u001b[39m\u001b[32m5\u001b[39m         \u001b[38;5;28mprint\u001b[39m(\u001b[33mf\u001b[39m\u001b[33m\"\u001b[39m\u001b[33mHotel \u001b[39m\u001b[38;5;132;01m{\u001b[39;00midx\u001b[38;5;132;01m}\u001b[39;00m\u001b[33m: \u001b[39m\u001b[38;5;132;01m{\u001b[39;00m\u001b[43mhotel\u001b[49m\u001b[43m[\u001b[49m\u001b[33;43m'\u001b[39;49m\u001b[33;43mtitle\u001b[39;49m\u001b[33;43m'\u001b[39;49m\u001b[43m]\u001b[49m\u001b[38;5;132;01m}\u001b[39;00m\u001b[33m\"\u001b[39m)\n\u001b[32m      6\u001b[39m         \u001b[38;5;28mprint\u001b[39m(\u001b[33mf\u001b[39m\u001b[33m\"\u001b[39m\u001b[33mLink: \u001b[39m\u001b[38;5;132;01m{\u001b[39;00mhotel[\u001b[33m'\u001b[39m\u001b[33mlink\u001b[39m\u001b[33m'\u001b[39m]\u001b[38;5;132;01m}\u001b[39;00m\u001b[33m\"\u001b[39m)\n\u001b[32m      7\u001b[39m         \u001b[38;5;28mprint\u001b[39m(\u001b[33mf\u001b[39m\u001b[33m\"\u001b[39m\u001b[33mSnippet: \u001b[39m\u001b[38;5;132;01m{\u001b[39;00mhotel[\u001b[33m'\u001b[39m\u001b[33msnippet\u001b[39m\u001b[33m'\u001b[39m]\u001b[38;5;132;01m}\u001b[39;00m\u001b[38;5;130;01m\\n\u001b[39;00m\u001b[33m\"\u001b[39m)\n",
      "\u001b[31mTypeError\u001b[39m: string indices must be integers, not 'str'"
     ]
    }
   ],
   "source": [
    "def calculate_budget():\n",
    "    "
   ]
  },
  {
   "cell_type": "code",
   "execution_count": null,
   "id": "af24c4d3",
   "metadata": {},
   "outputs": [],
   "source": []
  }
 ],
 "metadata": {
  "kernelspec": {
   "display_name": "myvenv",
   "language": "python",
   "name": "python3"
  },
  "language_info": {
   "codemirror_mode": {
    "name": "ipython",
    "version": 3
   },
   "file_extension": ".py",
   "mimetype": "text/x-python",
   "name": "python",
   "nbconvert_exporter": "python",
   "pygments_lexer": "ipython3",
   "version": "3.12.7"
  }
 },
 "nbformat": 4,
 "nbformat_minor": 5
}
