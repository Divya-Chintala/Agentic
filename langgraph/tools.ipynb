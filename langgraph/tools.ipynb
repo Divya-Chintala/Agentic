{
 "cells": [
  {
   "cell_type": "code",
   "execution_count": 3,
   "id": "9023da94",
   "metadata": {},
   "outputs": [],
   "source": [
    "import os\n",
    "import warnings\n",
    "from dotenv import load_dotenv\n",
    "load_dotenv()\n",
    "\n",
    "from warnings import filterwarnings\n",
    "filterwarnings(\"ignore\")"
   ]
  },
  {
   "cell_type": "code",
   "execution_count": null,
   "id": "45c3954b",
   "metadata": {},
   "outputs": [],
   "source": []
  },
  {
   "cell_type": "markdown",
   "id": "63364967",
   "metadata": {},
   "source": [
    "## Built-in Tools"
   ]
  },
  {
   "cell_type": "code",
   "execution_count": 4,
   "id": "dde497b4",
   "metadata": {},
   "outputs": [],
   "source": [
    "from langchain_community.tools import WikipediaQueryRun\n",
    "from langchain_community.utilities import WikipediaAPIWrapper\n",
    "\n",
    "wiki_api_wrapper=WikipediaAPIWrapper(top_k_results=3,doc_content_chars_max=400)\n",
    "wiki_tool=WikipediaQueryRun(api_wrapper=wiki_api_wrapper)"
   ]
  },
  {
   "cell_type": "code",
   "execution_count": 5,
   "id": "58061c14",
   "metadata": {},
   "outputs": [
    {
     "data": {
      "text/plain": [
       "'wikipedia'"
      ]
     },
     "execution_count": 5,
     "metadata": {},
     "output_type": "execute_result"
    }
   ],
   "source": [
    "wiki_tool.name"
   ]
  },
  {
   "cell_type": "code",
   "execution_count": 6,
   "id": "c8ff272f",
   "metadata": {},
   "outputs": [
    {
     "data": {
      "text/plain": [
       "'A wrapper around Wikipedia. Useful for when you need to answer general questions about people, places, companies, facts, historical events, or other subjects. Input should be a search query.'"
      ]
     },
     "execution_count": 6,
     "metadata": {},
     "output_type": "execute_result"
    }
   ],
   "source": [
    "wiki_tool.description"
   ]
  },
  {
   "cell_type": "code",
   "execution_count": 7,
   "id": "e0ccdc9c",
   "metadata": {},
   "outputs": [
    {
     "data": {
      "text/plain": [
       "\"Page: Royal Challengers Bengaluru\\nSummary: The Royal Challengers Bengaluru, formerly Royal Challengers Bangalore, also known as RCB, are a professional Twenty20 cricket team based in Bengaluru, Karnataka, that competes in the Indian Premier League (IPL). Founded in 2008 by United Spirits, the team's home ground is M. Chinnaswamy Stadium. They won their first title in 2025. The team finished as the\""
      ]
     },
     "execution_count": 7,
     "metadata": {},
     "output_type": "execute_result"
    }
   ],
   "source": [
    "wiki_tool.invoke(\"RCB\")"
   ]
  },
  {
   "cell_type": "code",
   "execution_count": 8,
   "id": "cfa15e40",
   "metadata": {},
   "outputs": [
    {
     "data": {
      "text/plain": [
       "'No good Wikipedia Search Result was found'"
      ]
     },
     "execution_count": 8,
     "metadata": {},
     "output_type": "execute_result"
    }
   ],
   "source": [
    "wiki_tool.invoke(\"what happend at RCB Victory function\")"
   ]
  },
  {
   "cell_type": "code",
   "execution_count": 9,
   "id": "ee3a8877",
   "metadata": {},
   "outputs": [
    {
     "name": "stderr",
     "output_type": "stream",
     "text": [
      "C:\\Users\\divya\\AppData\\Local\\Temp\\ipykernel_1396\\2056831807.py:4: LangChainDeprecationWarning: The class `TavilySearchResults` was deprecated in LangChain 0.3.25 and will be removed in 1.0. An updated version of the class exists in the :class:`~langchain-tavily package and should be used instead. To use it run `pip install -U :class:`~langchain-tavily` and import as `from :class:`~langchain_tavily import TavilySearch``.\n",
      "  tavily_tool=TavilySearchResults(tavily_api_key=tavily_api_key)\n"
     ]
    }
   ],
   "source": [
    "from langchain_community.tools.tavily_search import TavilySearchResults\n",
    "\n",
    "tavily_api_key=os.getenv(\"tavily_api_key\")\n",
    "tavily_tool=TavilySearchResults(tavily_api_key=tavily_api_key)"
   ]
  },
  {
   "cell_type": "code",
   "execution_count": 10,
   "id": "1cb79584",
   "metadata": {},
   "outputs": [
    {
     "data": {
      "text/plain": [
       "[{'title': \"Bengaluru stampede case: What we know so far on RCB's ...\",\n",
       "  'url': 'https://timesofindia.indiatimes.com/sports/cricket/ipl/top-stories/bengaluru-stampede-case-what-we-know-so-far-on-rcbs-celebrations-that-turned-catastrophic/articleshow/121670873.cms',\n",
       "  'content': \"[Follow us](https://news.google.com/publications/CAAqBwgKMM6y_Qowwu70Ag)\\n\\nRoyal Challengers Bengaluru's IPL victory celebrations turned tragic as a stampede at M Chinnaswamy Stadium resulted in 11 deaths and 75 injuries. FIRs have been filed against RCB, events organisers DNA, and Karnataka State Cricket Association for alleged negligence. The Karnataka High Court has sought a report from the government while arrests have been and officials suspended.\\n\\nRead More [...] [](https://timesofindia.indiatimes.com/city/bengaluru/celebrations-turn-tragic-bloodbath-at-rcbs-maiden-ipl-trophy-victory-day-to-remember-forever-see-pics/photostory/121646177.cms)[Celebrations turn tragic: Bloodbath at RCB’s maiden IPL trophy victory, day to remember forever | see pics Lakhs of fans had gathered around Chinnaswamy Stadium, celebrating RCB’s historic first-ever IPL title with joy and excitement.Times Of [...] ![Image 2: RCB Victory Parade: At least 8 Dead, Several Injured In Stampede Outside Bengaluru Stadium](https://static.toiimg.com/thumb/msid-121671297,imgsize-75322,width-400,resizemode-4/121671297.jpg)\\n\\n05:37\\n\\nVirat Kohli and the Royal Challengers Bengaluru team's celebrations turned tragic after a stampede at the Chinnaswamy Stadium. (PTI)\",\n",
       "  'score': 0.7485182},\n",
       " {'title': \"Tragedy at RCB's IPL 2025 victory parade: KSCA, franchise break ...\",\n",
       "  'url': 'https://timesofindia.indiatimes.com/sports/cricket/ipl/top-stories/tragedy-at-rcbs-ipl-2025-victory-parade-ksca-franchise-break-silence-on-stampede/articleshow/121628755.cms',\n",
       "  'content': '[](https://timesofindia.indiatimes.com/india/victory-parade-turns-tragic-several-dead-in-bengaluru-stampede-rcb-celebrations-end-in-chaos/photostory/121626396.cms)[\\u200bVictory parade turns tragic: Several dead in Bengaluru stampede; RCB celebrations end in chaos | In pics\\u200bRCB victory celebration spiralled into a chilling stampede at Chinnaswamy stadium in Bengaluru on Wednesday, after thousands of fans gathered to participate in the RCB victory celebrations. Image shows a massive gathering outside [...] NEW DELHI: What was meant to be a historic celebration turned into a heartbreaking tragedy as a stampede outside the M. Chinnaswamy Stadium on Wednesday claimed 11 lives and left 33 others injured. The incident occurred just hours after Royal Challengers Bengaluru (RCB) secured their maiden Indian Premier League (IPL) title, prompting a massive turnout of fans near the stadium.RCB and the Karnataka State Cricket Association (KSCA) issued a joint statement on Wednesday night, expressing “deep [...] outside the M Chinnaswamy Stadium, where the victory event was taking place. Fans of the cricket franchise climbed up walls and trees to catch a glimpse of the cricket stars who won the tournament for the first time.Times Of India](https://timesofindia.indiatimes.com/videos/toi-original/rcb-victory-parade-turns-into-nightmare-fan-frenzy-outside-chinnaswamy-stadium-kills-7-bengaluru/videoshow/121625991.cms \"RCB Victory Parade Turns Into Nightmare; Fan Frenzy Outside Chinnaswamy Stadium Kills 7+',\n",
       "  'score': 0.7339103},\n",
       " {'title': 'Chinnaswamy Stadium Stampede: What triggered the deadly chaos ...',\n",
       "  'url': 'https://m.economictimes.com/news/bengaluru-news/chinnaswamy-stadium-stampede-what-triggered-the-chaos-that-turned-deadly-in-rcbs-victory-celebration/articleshow/121624517.cms',\n",
       "  'content': \"![Image 3](https://img.etimg.com/thumb/msid-121625936,width-300,height-225,imgsize-121910,resizemode-75/.jpg)\\n\\nRCB's IPL victory celebrations turn tragic: Stampede in Bengaluru; 11 dead, 33 injured\\n\\nThe celebrations after RCB took a heart-breaking turn when a deadly [stampede](https://m.economictimes.com/topic/stampede) near the M Chinnaswamy Stadium killed over 11 fans dead and nearly 33 others injured. [...] **Police use lathi charge to control the crowd:**Police used mild force to control the crowd and bring the situation under control ahead of a special felicitation at the stadium for the RCB team organised by the Karnataka State Cricket Association (KSCA). According to eye-witnesses, a stampede-like situation emerged as fans thronged the venue of felicitation. Visuals showed police shifting the injured persons and those who fell unconscious in ambulances to nearby hospitals. [...] Police used mild force to control the crowd and bring the situation under control ahead of a special felicitation at the stadium for the RCB team organised by the Karnataka State Cricket Association (KSCA). According to eye-witnesses, a stampede-like situation emerged as fans thronged the venue of felicitation. Visuals showed police shifting the injured persons and those who fell unconscious in ambulances to nearby hospitals.\",\n",
       "  'score': 0.7116118},\n",
       " {'title': \"RCB's IPL 2025 trophy parade takes tragic turn as stampede claims ...\",\n",
       "  'url': 'https://www.olympics.com/en/news/royal-challengers-bengaluru-ipl-2025-trophy-parade-stampede',\n",
       "  'content': \"Lakhs of people converged at the M Chinnaswamy Stadium to celebrate RCB’s first-ever [**Indian Premier League**](https://www.olympics.com/en/news/indian-premier-league-ipl-winners-list-champions) triumph.\\n\\nHowever, the festivities soon turned into tragedy as the police stationed at the venue struggled to control the huge crowd, resulting in a stampede.\\n\\nIn the aftermath of the tragic incident, RCB released a statement, urging supporters to be safe and amending their celebration program. [...] **Royal Challengers Bengaluru**'s celebrations to mark their [**IPL 2025**](https://www.olympics.com/en/news/ipl-2025-results-cricket-scores-standings-points-table-net-run-rate) triumph took a tragic turn on Wednesday as 11 people lost their lives and over 30 were left injured in a stampede during the trophy parade outside the M Chinnaswamy Stadium.\",\n",
       "  'score': 0.69049704},\n",
       " {'title': 'RCB Victory Parade Highlights: RCB celebration marred by ...',\n",
       "  'url': 'https://www.hindustantimes.com/cricket/rcb-victory-parade-live-updates-royal-challengers-bengaluru-trophy-bus-parade-ipl-2025-winner-virat-kohli-101749020508285.html',\n",
       "  'content': 'RCB Victory Parade Highlights: The RCB celebration was marred by a stampede as 10 were killed while several had to be hospitalised.',\n",
       "  'score': 0.67885995}]"
      ]
     },
     "execution_count": 10,
     "metadata": {},
     "output_type": "execute_result"
    }
   ],
   "source": [
    "tavily_tool.invoke({\"query\":\"what happend at RCB Victory function\"})"
   ]
  },
  {
   "cell_type": "code",
   "execution_count": 11,
   "id": "9156f439",
   "metadata": {},
   "outputs": [],
   "source": [
    "from langchain_community.tools import YouTubeSearchTool\n",
    "youtube_tool=YouTubeSearchTool()"
   ]
  },
  {
   "cell_type": "code",
   "execution_count": 12,
   "id": "7997f506",
   "metadata": {},
   "outputs": [
    {
     "data": {
      "text/plain": [
       "\"['https://www.youtube.com/watch?v=JxgmHe2NyeY&pp=ygUKa3Jpc2ggTmFpaw%3D%3D', 'https://www.youtube.com/watch?v=p4pHsuEf4Ms&pp=ygUKa3Jpc2ggTmFpaw%3D%3D']\""
      ]
     },
     "execution_count": 12,
     "metadata": {},
     "output_type": "execute_result"
    }
   ],
   "source": [
    "youtube_tool.run(\"krish Naik\")"
   ]
  },
  {
   "cell_type": "markdown",
   "id": "75667904",
   "metadata": {},
   "source": [
    "## Function"
   ]
  },
  {
   "cell_type": "code",
   "execution_count": 13,
   "id": "aac312ec",
   "metadata": {},
   "outputs": [],
   "source": [
    "def multiply(a:int, b:int)->int:\n",
    "    return (a*b)"
   ]
  },
  {
   "cell_type": "code",
   "execution_count": 14,
   "id": "fe3667fc",
   "metadata": {},
   "outputs": [
    {
     "data": {
      "text/plain": [
       "200"
      ]
     },
     "execution_count": 14,
     "metadata": {},
     "output_type": "execute_result"
    }
   ],
   "source": [
    "multiply(10,20)"
   ]
  },
  {
   "cell_type": "markdown",
   "id": "5776610a",
   "metadata": {},
   "source": [
    "## Custom Tool"
   ]
  },
  {
   "cell_type": "code",
   "execution_count": 15,
   "id": "41382650",
   "metadata": {},
   "outputs": [],
   "source": [
    "from langchain.agents import tool\n",
    "\n",
    "@tool\n",
    "def multiply(a:int, b:int)->int:\n",
    "    \"\"\"This is a custome tools which gives product of two numbers\"\"\"\n",
    "    return (a*b)"
   ]
  },
  {
   "cell_type": "code",
   "execution_count": 16,
   "id": "36adedba",
   "metadata": {},
   "outputs": [
    {
     "data": {
      "text/plain": [
       "'multiply'"
      ]
     },
     "execution_count": 16,
     "metadata": {},
     "output_type": "execute_result"
    }
   ],
   "source": [
    "multiply.name"
   ]
  },
  {
   "cell_type": "code",
   "execution_count": 17,
   "id": "4bee7cce",
   "metadata": {},
   "outputs": [
    {
     "data": {
      "text/plain": [
       "'This is a custome tools which gives product of two numbers'"
      ]
     },
     "execution_count": 17,
     "metadata": {},
     "output_type": "execute_result"
    }
   ],
   "source": [
    "multiply.description"
   ]
  },
  {
   "cell_type": "code",
   "execution_count": 18,
   "id": "3c8b327b",
   "metadata": {},
   "outputs": [
    {
     "data": {
      "text/plain": [
       "200"
      ]
     },
     "execution_count": 18,
     "metadata": {},
     "output_type": "execute_result"
    }
   ],
   "source": [
    "multiply.invoke({'a':10,'b':20})"
   ]
  },
  {
   "cell_type": "code",
   "execution_count": 19,
   "id": "219553ac",
   "metadata": {},
   "outputs": [],
   "source": [
    "@tool\n",
    "def get_length_of_word(word:str)->int:\n",
    "    \"\"\"This is a custom tool that return length of given word\"\"\"\n",
    "    return len(word)\n"
   ]
  },
  {
   "cell_type": "code",
   "execution_count": 20,
   "id": "530c78cb",
   "metadata": {},
   "outputs": [
    {
     "data": {
      "text/plain": [
       "'get_length_of_word'"
      ]
     },
     "execution_count": 20,
     "metadata": {},
     "output_type": "execute_result"
    }
   ],
   "source": [
    "get_length_of_word.name"
   ]
  },
  {
   "cell_type": "code",
   "execution_count": 21,
   "id": "ad4e0169",
   "metadata": {},
   "outputs": [
    {
     "data": {
      "text/plain": [
       "'This is a custom tool that return length of given word'"
      ]
     },
     "execution_count": 21,
     "metadata": {},
     "output_type": "execute_result"
    }
   ],
   "source": [
    "get_length_of_word.description"
   ]
  },
  {
   "cell_type": "code",
   "execution_count": 22,
   "id": "ea83b6dc",
   "metadata": {},
   "outputs": [
    {
     "data": {
      "text/plain": [
       "14"
      ]
     },
     "execution_count": 22,
     "metadata": {},
     "output_type": "execute_result"
    }
   ],
   "source": [
    "get_length_of_word.invoke({\"word\":\"Divya Chintala\"})"
   ]
  },
  {
   "cell_type": "code",
   "execution_count": null,
   "id": "f0cee764",
   "metadata": {},
   "outputs": [],
   "source": []
  }
 ],
 "metadata": {
  "kernelspec": {
   "display_name": "myvenv",
   "language": "python",
   "name": "python3"
  },
  "language_info": {
   "codemirror_mode": {
    "name": "ipython",
    "version": 3
   },
   "file_extension": ".py",
   "mimetype": "text/x-python",
   "name": "python",
   "nbconvert_exporter": "python",
   "pygments_lexer": "ipython3",
   "version": "3.12.7"
  }
 },
 "nbformat": 4,
 "nbformat_minor": 5
}
