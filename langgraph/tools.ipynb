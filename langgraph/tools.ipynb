{
 "cells": [
  {
   "cell_type": "code",
   "execution_count": 20,
   "id": "9023da94",
   "metadata": {},
   "outputs": [
    {
     "data": {
      "text/plain": [
       "True"
      ]
     },
     "execution_count": 20,
     "metadata": {},
     "output_type": "execute_result"
    }
   ],
   "source": [
    "import os\n",
    "import warnings\n",
    "from dotenv import load_dotenv\n",
    "load_dotenv()"
   ]
  },
  {
   "cell_type": "code",
   "execution_count": 11,
   "id": "45c3954b",
   "metadata": {},
   "outputs": [],
   "source": [
    "warnings.filterwarnings(\"ignore\")"
   ]
  },
  {
   "cell_type": "code",
   "execution_count": 6,
   "id": "dde497b4",
   "metadata": {},
   "outputs": [],
   "source": [
    "from langchain_community.tools import WikipediaQueryRun\n",
    "from langchain_community.utilities import WikipediaAPIWrapper\n",
    "\n",
    "wiki_api_wrapper=WikipediaAPIWrapper(top_k_results=3,doc_content_chars_max=400)\n",
    "wiki_tool=WikipediaQueryRun(api_wrapper=wiki_api_wrapper)"
   ]
  },
  {
   "cell_type": "code",
   "execution_count": 13,
   "id": "58061c14",
   "metadata": {},
   "outputs": [
    {
     "data": {
      "text/plain": [
       "'wikipedia'"
      ]
     },
     "execution_count": 13,
     "metadata": {},
     "output_type": "execute_result"
    }
   ],
   "source": [
    "wiki_tool.name"
   ]
  },
  {
   "cell_type": "code",
   "execution_count": 14,
   "id": "c8ff272f",
   "metadata": {},
   "outputs": [
    {
     "data": {
      "text/plain": [
       "'A wrapper around Wikipedia. Useful for when you need to answer general questions about people, places, companies, facts, historical events, or other subjects. Input should be a search query.'"
      ]
     },
     "execution_count": 14,
     "metadata": {},
     "output_type": "execute_result"
    }
   ],
   "source": [
    "wiki_tool.description"
   ]
  },
  {
   "cell_type": "code",
   "execution_count": 24,
   "id": "e0ccdc9c",
   "metadata": {},
   "outputs": [
    {
     "data": {
      "text/plain": [
       "\"Page: Royal Challengers Bengaluru\\nSummary: The Royal Challengers Bengaluru, formerly known as Royal Challengers Bangalore, also known as RCB, are a professional Twenty20 cricket team based in Bengaluru, Karnataka, that competes in the Indian Premier League. Founded in 2008 by United Spirits, the team's home ground is M. Chinnaswamy Stadium. RCB won their first title in 2025. The team has also fini\""
      ]
     },
     "execution_count": 24,
     "metadata": {},
     "output_type": "execute_result"
    }
   ],
   "source": [
    "wiki_tool.invoke(\"RCB\")"
   ]
  },
  {
   "cell_type": "code",
   "execution_count": 23,
   "id": "cfa15e40",
   "metadata": {},
   "outputs": [
    {
     "data": {
      "text/plain": [
       "'No good Wikipedia Search Result was found'"
      ]
     },
     "execution_count": 23,
     "metadata": {},
     "output_type": "execute_result"
    }
   ],
   "source": [
    "wiki_tool.invoke(\"what happend at RCB Victory function\")"
   ]
  },
  {
   "cell_type": "code",
   "execution_count": null,
   "id": "ee3a8877",
   "metadata": {},
   "outputs": [],
   "source": [
    "from langchain_community.tools.tavily_search import TavilySearchResults\n",
    "\n",
    "tavily_api_key=os.getenv(\"tavily_api_key\")\n",
    "tavily_tool=TavilySearchResults(tavily_api_key=tavily_api_key)"
   ]
  },
  {
   "cell_type": "code",
   "execution_count": 22,
   "id": "1cb79584",
   "metadata": {},
   "outputs": [
    {
     "data": {
      "text/plain": [
       "[{'title': \"RCB Victory Parade Tragedy highlights: Bengaluru's celebrations ...\",\n",
       "  'url': 'https://indianexpress.com/article/sports/cricket/rcb-ipl-2025-winner-victory-parade-live-updates-virat-kohli-ab-de-villiers-celebration-in-bangalore-10047392/',\n",
       "  'content': '**RCB IPL 2025 Winner Victory Parade highlights:** Royal Challengers Bengaluru’s (RCB) victory celebrations have taken a tragic tragic with 11 dead and several injured in a stampede near the M Chinnaswamy Stadium, where the team was felicitated. The victory celebrations were supposed to include an open-top bus parade from the Vidhana Soudha to the stadium. That was cancelled but a shortened celebration was still conducted at a packed Chinnaswamy where Virat Kohli and RCB captain Rajat Patidar [...] Kohli and the rest of the [RCB](https://indianexpress.com/about/royal-challengers-bangalore/) players said on Tuesday night itself that they will be celebrating the title with fans in the city of [Bengaluru](https://indianexpress.com/section/cities/bangalore/) the next day. There was uncertainty over whether the victory parade would happen or not throughout the day. While the Bengaluru Traffic Police said in an advisory that there will be n0 parade, RCB then said in a post on X that it will',\n",
       "  'score': 0.7913865},\n",
       " {'title': 'LIVE: 11 Dead In Stampede As RCB Victory Celebrations ... - YouTube',\n",
       "  'url': 'https://www.youtube.com/watch?v=DCTt4n9CsL4',\n",
       "  'content': \"the loss of lives? Can the state evade the responsibility? There was a fan frenzy that happened uh at the RCB's victory. Uh this is the stampede timeline. This is what we know so far. Uh the RCB's victory lap turned uh uh fatal. What essentially happened was for a stadium which has a capacity of about 30,000 people more than one lakh turned up. The fans were allowed to enter the stadium all of them without any registration any passes. There were specific gates uh gate number three, gate number [...] ### Description\\n25715 views\\nPosted: 4 Jun 2025\\nWATCH | Tragedy strikes during RCB's IPL 2025 victory parade celebrations at Bengaluru’s Chinnaswamy Stadium. At least 11 fans are dead and 25 injured in a shocking stampede as massive crowds surged to celebrate RCB’s historic IPL win. Police lathi-charge, overcrowding, and poor crowd control are under scrutiny. Karnataka CM Siddaramaiah has ordered an inquiry. [...] Unfortunately at last count 11 lives have been lost in Bengaluru when a stampede broke out outside the Chenniswami stadium. What was even worse is that the felicitation ceremony for the Royal Challengers Bengaluru continued inside. The government says that we cut the ceremony short but it ended up happening nonetheless and that is something that many of the families of the victims have now taken objection to. I have my guest joining us on this broadcast as well. Sanjay Sahai former ADGP of\",\n",
       "  'score': 0.7711725},\n",
       " {'title': \"Bengaluru stampede case: What we know so far on RCB's ...\",\n",
       "  'url': 'https://timesofindia.indiatimes.com/sports/cricket/ipl/top-stories/bengaluru-stampede-case-what-we-know-so-far-on-rcbs-celebrations-that-turned-catastrophic/articleshow/121670873.cms',\n",
       "  'content': \"[Follow us](https://news.google.com/publications/CAAqBwgKMM6y_Qowwu70Ag)\\n\\nRoyal Challengers Bengaluru's IPL victory celebrations turned tragic as a stampede at M Chinnaswamy Stadium resulted in 11 deaths and 75 injuries. FIRs have been filed against RCB, events organisers DNA, and Karnataka State Cricket Association for alleged negligence. The Karnataka High Court has sought a report from the government while arrests have been and officials suspended.\\n\\nRead More [...] [](https://timesofindia.indiatimes.com/city/bengaluru/celebrations-turn-tragic-bloodbath-at-rcbs-maiden-ipl-trophy-victory-day-to-remember-forever-see-pics/photostory/121646177.cms)[Celebrations turn tragic: Bloodbath at RCB’s maiden IPL trophy victory, day to remember forever | see pics Lakhs of fans had gathered around Chinnaswamy Stadium, celebrating RCB’s historic first-ever IPL title with joy and excitement.Times Of [...] ![Image 2: RCB Victory Parade: At least 8 Dead, Several Injured In Stampede Outside Bengaluru Stadium](https://static.toiimg.com/thumb/msid-121671297,imgsize-75322,width-400,resizemode-4/121671297.jpg)\\n\\n05:37\\n\\nVirat Kohli and the Royal Challengers Bengaluru team's celebrations turned tragic after a stampede at the Chinnaswamy Stadium. (PTI)\",\n",
       "  'score': 0.7485182},\n",
       " {'title': 'Chinnaswamy Stadium Stampede: What triggered the deadly chaos ...',\n",
       "  'url': 'https://m.economictimes.com/news/bengaluru-news/chinnaswamy-stadium-stampede-what-triggered-the-chaos-that-turned-deadly-in-rcbs-victory-celebration/articleshow/121624517.cms',\n",
       "  'content': \"![Image 3](https://img.etimg.com/thumb/msid-121625936,width-300,height-225,imgsize-121910,resizemode-75/.jpg)\\n\\nRCB's IPL victory celebrations turn tragic: Stampede in Bengaluru; 11 dead, 33 injured\\n\\nThe celebrations after RCB took a heart-breaking turn when a deadly [stampede](https://m.economictimes.com/topic/stampede) near the M Chinnaswamy Stadium killed over 11 fans dead and nearly 33 others injured.\",\n",
       "  'score': 0.7116118},\n",
       " {'title': \"Deaths and injuries to fans mar RCB's homecoming in Bengaluru\",\n",
       "  'url': 'https://www.espncricinfo.com/story/rcb-s-felicitation-in-bengaluru-after-winning-ipl-2025-marred-by-deaths-and-injuries-to-fans-1489074',\n",
       "  'content': 'Several police personnel engaged to manage crowds on Wednesday afternoon were seen carrying fans - some of them minors - to hospital amid rain and heavy traffic that had come to a grinding halt, even as RCB\\'s victorious squad held the trophy aloft as celebrations continued in front of at least 25,000 fans who had made it inside the Chinnaswamy Stadium. [...] ESPNcricinfo understands the chaos outside the venue prompted state police to issue a directive to the franchise, urging them to keep the celebrations brief. A planned victory lap around the ground was also curtailed as the players exited the venue quickly.\\n\\n> A family member of one of those injured described the scenes as \"complete mismanagement\" by local authorities. At least four fans were brought in unconscious from the nearby Cubbon Park Metro Station. [...] \"People entered through the gates, and broke them. A stampede took place; no one expected such a huge crowd. Capacity of the stadium is only 35,000, but two-three lakh people have come to participate in the celebration. I\\'m not denying or saying nothing happened, that\\'s why I\\'ve ordered an enquiry. The pain of this tragedy has also erased the joy of victory.\"',\n",
       "  'score': 0.70336664}]"
      ]
     },
     "execution_count": 22,
     "metadata": {},
     "output_type": "execute_result"
    }
   ],
   "source": [
    "tavily_tool.invoke({\"query\":\"what happend at RCB Victory function\"})"
   ]
  },
  {
   "cell_type": "code",
   "execution_count": 25,
   "id": "9156f439",
   "metadata": {},
   "outputs": [],
   "source": [
    "from langchain_community.tools import YouTubeSearchTool\n",
    "youtube_tool=YouTubeSearchTool()"
   ]
  },
  {
   "cell_type": "code",
   "execution_count": 27,
   "id": "7997f506",
   "metadata": {},
   "outputs": [
    {
     "data": {
      "text/plain": [
       "\"['https://www.youtube.com/watch?v=JxgmHe2NyeY&pp=ygUKa3Jpc2ggTmFpaw%3D%3D', 'https://www.youtube.com/watch?v=p4pHsuEf4Ms&pp=ygUKa3Jpc2ggTmFpaw%3D%3D']\""
      ]
     },
     "execution_count": 27,
     "metadata": {},
     "output_type": "execute_result"
    }
   ],
   "source": [
    "youtube_tool.run(\"krish Naik\")"
   ]
  },
  {
   "cell_type": "markdown",
   "id": "75667904",
   "metadata": {},
   "source": [
    "## Function"
   ]
  },
  {
   "cell_type": "code",
   "execution_count": 28,
   "id": "aac312ec",
   "metadata": {},
   "outputs": [],
   "source": [
    "def multiply(a:int, b:int)->int:\n",
    "    return (a*b)"
   ]
  },
  {
   "cell_type": "code",
   "execution_count": 29,
   "id": "fe3667fc",
   "metadata": {},
   "outputs": [
    {
     "data": {
      "text/plain": [
       "200"
      ]
     },
     "execution_count": 29,
     "metadata": {},
     "output_type": "execute_result"
    }
   ],
   "source": [
    "multiply(10,20)"
   ]
  },
  {
   "cell_type": "markdown",
   "id": "5776610a",
   "metadata": {},
   "source": [
    "## Custom Tool"
   ]
  },
  {
   "cell_type": "code",
   "execution_count": 31,
   "id": "41382650",
   "metadata": {},
   "outputs": [],
   "source": [
    "from langchain.agents import tool\n",
    "\n",
    "@tool\n",
    "def multiply(a:int, b:int)->int:\n",
    "    \"\"\"This is a custome tools which gives product of two numbers\"\"\"\n",
    "    return (a*b)"
   ]
  },
  {
   "cell_type": "code",
   "execution_count": 32,
   "id": "36adedba",
   "metadata": {},
   "outputs": [
    {
     "data": {
      "text/plain": [
       "'multiply'"
      ]
     },
     "execution_count": 32,
     "metadata": {},
     "output_type": "execute_result"
    }
   ],
   "source": [
    "multiply.name"
   ]
  },
  {
   "cell_type": "code",
   "execution_count": 33,
   "id": "4bee7cce",
   "metadata": {},
   "outputs": [
    {
     "data": {
      "text/plain": [
       "'This is a custome tools which gives product of two numbers'"
      ]
     },
     "execution_count": 33,
     "metadata": {},
     "output_type": "execute_result"
    }
   ],
   "source": [
    "multiply.description"
   ]
  },
  {
   "cell_type": "code",
   "execution_count": 35,
   "id": "3c8b327b",
   "metadata": {},
   "outputs": [
    {
     "data": {
      "text/plain": [
       "200"
      ]
     },
     "execution_count": 35,
     "metadata": {},
     "output_type": "execute_result"
    }
   ],
   "source": [
    "multiply.invoke({'a':10,'b':20})"
   ]
  },
  {
   "cell_type": "code",
   "execution_count": 36,
   "id": "219553ac",
   "metadata": {},
   "outputs": [],
   "source": [
    "@tool\n",
    "def get_length_of_word(word:str)->int:\n",
    "    \"\"\"This is a custom tool that return length of given word\"\"\"\n",
    "    return len(word)\n"
   ]
  },
  {
   "cell_type": "code",
   "execution_count": 37,
   "id": "530c78cb",
   "metadata": {},
   "outputs": [
    {
     "data": {
      "text/plain": [
       "'get_length_of_word'"
      ]
     },
     "execution_count": 37,
     "metadata": {},
     "output_type": "execute_result"
    }
   ],
   "source": [
    "get_length_of_word.name"
   ]
  },
  {
   "cell_type": "code",
   "execution_count": 38,
   "id": "ad4e0169",
   "metadata": {},
   "outputs": [
    {
     "data": {
      "text/plain": [
       "'This is a custom tool that return length of given word'"
      ]
     },
     "execution_count": 38,
     "metadata": {},
     "output_type": "execute_result"
    }
   ],
   "source": [
    "get_length_of_word.description"
   ]
  },
  {
   "cell_type": "code",
   "execution_count": 41,
   "id": "ea83b6dc",
   "metadata": {},
   "outputs": [
    {
     "data": {
      "text/plain": [
       "14"
      ]
     },
     "execution_count": 41,
     "metadata": {},
     "output_type": "execute_result"
    }
   ],
   "source": [
    "get_length_of_word.invoke({\"word\":\"Divya Chintala\"})"
   ]
  },
  {
   "cell_type": "code",
   "execution_count": null,
   "id": "f0cee764",
   "metadata": {},
   "outputs": [],
   "source": []
  }
 ],
 "metadata": {
  "kernelspec": {
   "display_name": "myvenv",
   "language": "python",
   "name": "python3"
  },
  "language_info": {
   "codemirror_mode": {
    "name": "ipython",
    "version": 3
   },
   "file_extension": ".py",
   "mimetype": "text/x-python",
   "name": "python",
   "nbconvert_exporter": "python",
   "pygments_lexer": "ipython3",
   "version": "3.12.7"
  }
 },
 "nbformat": 4,
 "nbformat_minor": 5
}
